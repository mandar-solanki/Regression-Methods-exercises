{
  "cells": [
    {
      "cell_type": "markdown",
      "metadata": {
        "id": "view-in-github",
        "colab_type": "text"
      },
      "source": [
        "<a href=\"https://colab.research.google.com/github/mandar-solanki/Regression-Methods-exercises/blob/main/Regression_1217_Machine_Learning_Day_1_and_2_Complete_Regression.ipynb\" target=\"_parent\"><img src=\"https://colab.research.google.com/assets/colab-badge.svg\" alt=\"Open In Colab\"/></a>"
      ]
    },
    {
      "cell_type": "markdown",
      "source": [],
      "metadata": {
        "id": "Hgz5l5sKMu1_"
      },
      "id": "Hgz5l5sKMu1_"
    },
    {
      "cell_type": "code",
      "source": [
        "# Loading Github Repo\n",
        "from google.colab import drive\n",
        "drive.mount('/content/gdrive', force_remount=True)\n",
        "\n",
        "%cd gdrive/My Drive/project_folder/AI-Fundamentals-Updated\n",
        "! git pull\n"
      ],
      "metadata": {
        "colab": {
          "base_uri": "https://localhost:8080/"
        },
        "id": "QAsd6LV4Msds",
        "outputId": "212bcaae-7caf-45d4-f21b-0578f07f705b"
      },
      "id": "QAsd6LV4Msds",
      "execution_count": 1,
      "outputs": [
        {
          "output_type": "stream",
          "name": "stdout",
          "text": [
            "Mounted at /content/gdrive\n",
            "/content/gdrive/My Drive/project_folder/AI-Fundamentals-Updated\n",
            "error: You have not concluded your merge (MERGE_HEAD exists).\n",
            "\u001b[33mhint: Please, commit your changes before merging.\u001b[m\n",
            "fatal: Exiting because of unfinished merge.\n"
          ]
        }
      ]
    },
    {
      "cell_type": "code",
      "source": [],
      "metadata": {
        "id": "CKQLznVVMweB"
      },
      "id": "CKQLznVVMweB",
      "execution_count": null,
      "outputs": []
    },
    {
      "cell_type": "markdown",
      "source": [],
      "metadata": {
        "id": "i1LRn8bAMvyO"
      },
      "id": "i1LRn8bAMvyO"
    },
    {
      "cell_type": "code",
      "execution_count": 2,
      "id": "ce76c446",
      "metadata": {
        "colab": {
          "base_uri": "https://localhost:8080/",
          "height": 35
        },
        "id": "ce76c446",
        "outputId": "0f4813b8-829d-4c13-8956-73e9594cde8d"
      },
      "outputs": [
        {
          "output_type": "execute_result",
          "data": {
            "text/plain": [
              "'/content/gdrive/MyDrive/project_folder/AI-Fundamentals-Updated'"
            ],
            "application/vnd.google.colaboratory.intrinsic+json": {
              "type": "string"
            }
          },
          "metadata": {},
          "execution_count": 2
        }
      ],
      "source": [
        "import os\n",
        "os.getcwd()"
      ]
    },
    {
      "cell_type": "markdown",
      "id": "9db50786",
      "metadata": {
        "id": "9db50786"
      },
      "source": [
        "## What is Machine Learning\n",
        "\n",
        "### In the real world, we are surrounded by humans who can learn everything from their experiences with their learning capability, and we have computers or machines which work on our instructions. But can a machine also learn from experiences or past data like a human does? So here comes the role of Machine Learning."
      ]
    },
    {
      "cell_type": "markdown",
      "id": "389dc90d",
      "metadata": {
        "id": "389dc90d"
      },
      "source": [
        "## How does Machine Learning work\n",
        "\n",
        "### A machine learning system builds prediction models, learns from previous data, and predicts the output of new data whenever it receives it. The amount of data helps to build a better model that accurately predicts the output, which in turn affects the accuracy of the predicted output.\n",
        "### Let's say we have a complex problem in which we need to make predictions. Instead of writing code, we just need to feed the data to generic algorithms, which build the logic based on the data and predict the output. Our perspective on the issue has changed as a result of machine learning. The Machine Learning algorithm's operation is depicted in the following block diagram:\n",
        "\n",
        "[image.png]"
      ]
    },
    {
      "cell_type": "markdown",
      "id": "a559b7ca",
      "metadata": {
        "id": "a559b7ca"
      },
      "source": [
        "## Features of Machine Learning:\n",
        "\n",
        "Machine learning uses data to detect various patterns in a given dataset.\n",
        "\n",
        "It can learn from past data and improve automatically.\n",
        "\n",
        "It is a data-driven technology.\n",
        "\n",
        "Machine learning is much similar to data mining as it also deals with the huge amount of the data."
      ]
    },
    {
      "cell_type": "markdown",
      "id": "381031ef",
      "metadata": {
        "id": "381031ef"
      },
      "source": [
        "### Need for Machine Learning\n",
        "\n",
        "The demand for machine learning is steadily rising. Because it is able to perform tasks that are too complex for a person to directly implement, machine learning is required. Humans are constrained by our inability to manually access vast amounts of data; as a result, we require computer systems, which is where machine learning comes in to simplify our lives.\n",
        "\n",
        "By providing them with a large amount of data and allowing them to automatically explore the data, build models, and predict the required output, we can train machine learning algorithms. The cost function can be used to determine the amount of data and the machine learning algorithm's performance. We can save both time and money by using machine learning.\n",
        "\n",
        "The significance of AI can be handily perceived by its utilization's cases, Presently, AI is utilized in self-driving vehicles, digital misrepresentation identification, face acknowledgment, and companion idea by Facebook, and so on. Different top organizations, for example, Netflix and Amazon have constructed AI models that are utilizing an immense measure of information to examine the client interest and suggest item likewise.\n",
        "\n",
        "Following are some key points which show the importance of Machine Learning:\n",
        "\n",
        "Rapid increment in the production of data\n",
        "\n",
        "Solving complex problems, which are difficult for a human\n",
        "\n",
        "Decision making in various sector including finance\n",
        "\n",
        "Finding hidden patterns and extracting useful information from data."
      ]
    },
    {
      "cell_type": "markdown",
      "id": "1b531697",
      "metadata": {
        "id": "1b531697"
      },
      "source": [
        "## Classification of Machine Learning\n",
        "### At a broad level, machine learning can be classified into three types:\n",
        "\n",
        "Supervised learning\n",
        "\n",
        "Unsupervised learning\n",
        "\n",
        "Reinforcement learning\n",
        "\n",
        "[image.png]"
      ]
    },
    {
      "cell_type": "markdown",
      "id": "3f070efa",
      "metadata": {
        "id": "3f070efa"
      },
      "source": [
        "1) Supervised Learning\n",
        "In supervised learning, sample labeled data are provided to the machine learning system for training, and the system then predicts the output based on the training data.\n",
        "\n",
        "\n",
        "The system uses labeled data to build a model that understands the datasets and learns about each one. After the training and processing are done, we test the model with sample data to see if it can accurately predict the output.\n",
        "\n",
        "The mapping of the input data to the output data is the objective of supervised learning. The managed learning depends on oversight, and it is equivalent to when an understudy learns things in the management of the educator. Spam filtering is an example of supervised learning.\n",
        "\n",
        "Supervised learning can be grouped further in two categories of algorithms:\n",
        "\n",
        "Classification\n",
        "\n",
        "Regression\n",
        "\n",
        "2) Unsupervised Learning\n",
        "Unsupervised learning is a learning method in which a machine learns without any supervision.\n",
        "\n",
        "The training is provided to the machine with the set of data that has not been labeled, classified, or categorized, and the algorithm needs to act on that data without any supervision. The goal of unsupervised learning is to restructure the input data into new features or a group of objects with similar patterns.\n",
        "\n",
        "\n",
        "In unsupervised learning, we don't have a predetermined result. The machine tries to find useful insights from the huge amount of data. It can be further classifieds into two categories of algorithms:\n",
        "\n",
        "Clustering\n",
        "\n",
        "Association\n",
        "\n",
        "3) Reinforcement Learning\n",
        "\n",
        "Reinforcement learning is a feedback-based learning method, in which a learning agent gets a reward for each right action and gets a penalty for each wrong action. The agent learns automatically with these feedbacks and improves its performance. In reinforcement learning, the agent interacts with the environment and explores it. The goal of an agent is to get the most reward points, and hence, it improves its performance.\n",
        "\n",
        "The robotic dog, which automatically learns the movement of his arms, is an example of Reinforcement learning."
      ]
    },
    {
      "cell_type": "markdown",
      "id": "d05ca239",
      "metadata": {
        "id": "d05ca239"
      },
      "source": [
        "### Supervised Machine Learning\n",
        "\n",
        "Supervised learning is the types of machine learning in which machines are trained using well \"labelled\" training data, and on basis of that data, machines predict the output. The labelled data means some input data is already tagged with the correct output.\n",
        "\n",
        "In supervised learning, the training data provided to the machines work as the supervisor that teaches the machines to predict the output correctly. It applies the same concept as a student learns in the supervision of the teacher.\n",
        "\n",
        "Supervised learning is a process of providing input data as well as correct output data to the machine learning model. The aim of a supervised learning algorithm is to find a mapping function to map the input variable(x) with the output variable(y).\n",
        "\n",
        "In the real-world, supervised learning can be used for Risk Assessment, Image classification, Fraud Detection, spam filtering, etc.\n",
        "\n",
        "How Supervised Learning Works?\n",
        "\n",
        "In supervised learning, models are trained using labelled dataset, where the model learns about each type of data. Once the training process is completed, the model is tested on the basis of test data (a subset of the training set), and then it predicts the output.\n",
        "\n",
        "The working of Supervised learning can be easily understood by the below example and diagram:\n",
        "\n",
        "[image.png]\n",
        "\n",
        "Suppose we have a dataset of different types of shapes which includes square, rectangle, triangle, and Polygon. Now the first step is that we need to train the model for each shape.\n",
        "\n",
        "If the given shape has four sides, and all the sides are equal, then it will be labelled as a Square.\n",
        "\n",
        "If the given shape has three sides, then it will be labelled as a triangle.\n",
        "\n",
        "If the given shape has six equal sides then it will be labelled as hexagon.\n",
        "\n",
        "Now, after training, we test our model using the test set, and the task of the model is to identify the shape.\n",
        "\n",
        "The machine is already trained on all types of shapes, and when it finds a new shape, it classifies the shape on the bases of a number of sides, and predicts the output."
      ]
    },
    {
      "cell_type": "markdown",
      "id": "92f39f22",
      "metadata": {
        "id": "92f39f22"
      },
      "source": [
        "### Steps Involved in Supervised Learning:\n",
        "\n",
        "First Determine the type of training dataset\n",
        "\n",
        "Collect/Gather the labelled training data.\n",
        "\n",
        "Split the training dataset into training dataset, test dataset, and validation dataset.\n",
        "\n",
        "Determine the input features of the training dataset, which should have enough knowledge so that the model can accurately predict the output.\n",
        "\n",
        "Determine the suitable algorithm for the model, such as support vector machine, decision tree, etc.\n",
        "\n",
        "Execute the algorithm on the training dataset. Sometimes we need validation sets as the control parameters, which are the subset of training datasets.\n",
        "\n",
        "Evaluate the accuracy of the model by providing the test set. If the model predicts the correct output, which means our model is accurate."
      ]
    },
    {
      "cell_type": "markdown",
      "id": "a9da3a68",
      "metadata": {
        "id": "a9da3a68"
      },
      "source": [
        "### Types of supervised Machine learning Algorithms:\n",
        "\n",
        "Supervised learning can be further divided into two types of problems:\n",
        "\n",
        "[image.png]\n",
        "\n",
        "### 1. Regression\n",
        "\n",
        "Regression algorithms are used if there is a relationship between the input variable and the output variable. It is used for the prediction of continuous variables, such as Weather forecasting, Market Trends, etc. Below are some popular Regression algorithms which come under supervised learning:\n",
        "\n",
        "Linear Regression\n",
        "\n",
        "Regression Trees\n",
        "\n",
        "Non-Linear Regression\n",
        "\n",
        "Bayesian Linear Regression\n",
        "\n",
        "Polynomial Regression\n",
        "\n",
        "\n",
        "### 2. Classification\n",
        "\n",
        "Classification algorithms are used when the output variable is categorical, which means there are two classes such as Yes-No, Male-Female, True-false, etc.\n",
        "\n",
        "\n",
        "Random Forest\n",
        "\n",
        "Decision Trees\n",
        "\n",
        "Logistic Regression\n",
        "\n",
        "Support vector Machines"
      ]
    },
    {
      "cell_type": "markdown",
      "id": "0d5ad342",
      "metadata": {
        "id": "0d5ad342"
      },
      "source": [
        "### Advantages of Supervised learning:\n",
        "\n",
        "With the help of supervised learning, the model can predict the output on the basis of prior experiences.\n",
        "\n",
        "In supervised learning, we can have an exact idea about the classes of objects.\n",
        "\n",
        "Supervised learning model helps us to solve various real-world problems such as fraud detection, spam filtering, etc.\n",
        "\n",
        "### Disadvantages of supervised learning:\n",
        "\n",
        "Supervised learning models are not suitable for handling the complex tasks.\n",
        "\n",
        "Supervised learning cannot predict the correct output if the test data is different from the training dataset.\n",
        "\n",
        "Training required lots of computation times.\n",
        "\n",
        "In supervised learning, we need enough knowledge about the classes of object."
      ]
    },
    {
      "cell_type": "markdown",
      "id": "a84bd423",
      "metadata": {
        "id": "a84bd423"
      },
      "source": [
        "### What is Unsupervised Learning?\n",
        "\n",
        "#### As the name suggests, unsupervised learning is a machine learning technique in which models are not supervised using training dataset. Instead, models itself find the hidden patterns and insights from the given data. It can be compared to learning which takes place in the human brain while learning new things. It can be defined as:\n",
        "\n",
        "#### Unsupervised learning is a type of machine learning in which models are trained using unlabeled dataset and are allowed to act on that data without any supervision.\n",
        "\n",
        "#### Unsupervised learning cannot be directly applied to a regression or classification problem because unlike supervised learning, we have the input data but no corresponding output data. The goal of unsupervised learning is to find the underlying structure of dataset, group that data according to similarities, and represent that dataset in a compressed format.\n",
        "\n",
        "#### Example: Suppose the unsupervised learning algorithm is given an input dataset containing images of different types of cats and dogs. The algorithm is never trained upon the given dataset, which means it does not have any idea about the features of the dataset. The task of the unsupervised learning algorithm is to identify the image features on their own. Unsupervised learning algorithm will perform this task by clustering the image dataset into the groups according to similarities between images.\n",
        "\n",
        "[image.png]"
      ]
    },
    {
      "cell_type": "markdown",
      "id": "ed465c81",
      "metadata": {
        "id": "ed465c81"
      },
      "source": [
        "### Why use Unsupervised Learning?\n",
        "#### Below are some main reasons which describe the importance of Unsupervised Learning:\n",
        "\n",
        "Unsupervised learning is helpful for finding useful insights from the data.\n",
        "\n",
        "Unsupervised learning is much similar as a human learns to think by their own experiences, which makes it closer to the real AI.\n",
        "\n",
        "Unsupervised learning works on unlabeled and uncategorized data which make unsupervised learning more important.\n",
        "\n",
        "In real-world, we do not always have input data with the corresponding output so to solve such cases, we need unsupervised learning."
      ]
    },
    {
      "cell_type": "markdown",
      "id": "81daac84",
      "metadata": {
        "id": "81daac84"
      },
      "source": [
        "### Working of Unsupervised Learning\n",
        "\n",
        "#### Working of unsupervised learning can be understood by the below diagram:\n",
        "\n",
        "[image.png]\n",
        "\n",
        "#### Here, we have taken an unlabeled input data, which means it is not categorized and corresponding outputs are also not given. Now, this unlabeled input data is fed to the machine learning model in order to train it. Firstly, it will interpret the raw data to find the hidden patterns from the data and then will apply suitable algorithms such as k-means clustering, Decision tree, etc.\n",
        "\n",
        "#### Once it applies the suitable algorithm, the algorithm divides the data objects into groups according to the similarities and difference between the objects."
      ]
    },
    {
      "cell_type": "markdown",
      "id": "41002eb7",
      "metadata": {
        "id": "41002eb7"
      },
      "source": [
        "### Types of Unsupervised Learning Algorithm:\n",
        "\n",
        "#### The unsupervised learning algorithm can be further categorized into two types of problems:\n",
        "\n",
        "[image.png]\n",
        "\n",
        "#### Clustering: Clustering is a method of grouping the objects into clusters such that objects with most similarities remains into a group and has less or no similarities with the objects of another group. Cluster analysis finds the commonalities between the data objects and categorizes them as per the presence and absence of those commonalities.\n",
        "\n",
        "#### Association: An association rule is an unsupervised learning method which is used for finding the relationships between variables in the large database. It determines the set of items that occurs together in the dataset. Association rule makes marketing strategy more effective. Such as people who buy X item (suppose a bread) are also tend to purchase Y (Butter/Jam) item. A typical example of Association rule is Market Basket Analysis."
      ]
    },
    {
      "cell_type": "markdown",
      "id": "079a2553",
      "metadata": {
        "id": "079a2553"
      },
      "source": [
        "### Unsupervised Learning algorithms:\n",
        "\n",
        "#### Below is the list of some popular unsupervised learning algorithms:\n",
        "\n",
        "K-means clustering\n",
        "\n",
        "KNN (k-nearest neighbors)\n",
        "\n",
        "Hierarchal clustering\n",
        "\n",
        "Anomaly detection\n",
        "\n",
        "Neural Networks\n",
        "\n",
        "Principle Component Analysis\n",
        "\n",
        "Apriori algorithm\n",
        "\n",
        "Singular value decomposition"
      ]
    },
    {
      "cell_type": "markdown",
      "id": "f0fd94a2",
      "metadata": {
        "id": "f0fd94a2"
      },
      "source": [
        "### Advantages of Unsupervised Learning\n",
        "\n",
        "#### Unsupervised learning is used for more complex tasks as compared to supervised learning because, in unsupervised learning, we don't have labeled input data.\n",
        "#### Unsupervised learning is preferable as it is easy to get unlabeled data in comparison to labeled data.\n",
        "\n",
        "### Disadvantages of Unsupervised Learning\n",
        "\n",
        "#### Unsupervised learning is intrinsically more difficult than supervised learning as it does not have corresponding output.\n",
        "\n",
        "#### The result of the unsupervised learning algorithm might be less accurate as input data is not labeled, and algorithms do not know the exact output in advance."
      ]
    },
    {
      "cell_type": "markdown",
      "id": "8dfb437c",
      "metadata": {
        "id": "8dfb437c"
      },
      "source": [
        "## Regression Analysis in Machine learning\n",
        "\n",
        "#### Regression analysis is a statistical method to model the relationship between a dependent (target) and independent (predictor) variables with one or more independent variables. More specifically, Regression analysis helps us to understand how the value of the dependent variable is changing corresponding to an independent variable when other independent variables are held fixed. It predicts continuous/real values such as temperature, age, salary, price, etc.\n",
        "\n",
        "#### We can understand the concept of regression analysis using the below example:\n",
        "\n",
        "#### Example: Suppose there is a marketing company A, who does various advertisement every year and get sales on that. The below list shows the advertisement made by the company in the last 5 years and the corresponding sales:\n",
        "\n",
        "[image.png]\n",
        "\n",
        "#### Now, the company wants to do the advertisement of $200 in the year 2019 and wants to know the prediction about the sales for this year. So to solve such type of prediction problems in machine learning, we need regression analysis."
      ]
    },
    {
      "cell_type": "markdown",
      "id": "6eb8418d",
      "metadata": {
        "id": "6eb8418d"
      },
      "source": [
        "### Regression is a supervised learning technique which helps in finding the correlation between variables and enables us to predict the continuous output variable based on the one or more predictor variables. It is mainly used for prediction, forecasting, time series modeling, and determining the causal-effect relationship between variables.\n",
        "\n",
        "### In Regression, we plot a graph between the variables which best fits the given datapoints, using this plot, the machine learning model can make predictions about the data. In simple words, \"Regression shows a line or curve that passes through all the datapoints on target-predictor graph in such a way that the vertical distance between the datapoints and the regression line is minimum.\" The distance between datapoints and line tells whether a model has captured a strong relationship or not.\n",
        "\n",
        "### Some examples of regression can be as:\n",
        "\n",
        "Prediction of rain using temperature and other factors\n",
        "\n",
        "Determining Market trends\n",
        "\n",
        "Prediction of road accidents due to rash driving."
      ]
    },
    {
      "cell_type": "markdown",
      "id": "7bcb1c51",
      "metadata": {
        "id": "7bcb1c51"
      },
      "source": [
        "### Terminologies Related to the Regression Analysis:\n",
        "\n",
        "Dependent Variable: The main factor in Regression analysis which we want to predict or understand is called the dependent variable. It is also called target variable.\n",
        "\n",
        "Independent Variable: The factors which affect the dependent variables or which are used to predict the values of the dependent variables are called independent variable, also called as a predictor.\n",
        "\n",
        "Outliers: Outlier is an observation which contains either very low value or very high value in comparison to other observed values. An outlier may hamper the result, so it should be avoided.\n",
        "\n",
        "Multicollinearity: If the independent variables are highly correlated with each other than other variables, then such condition is called Multicollinearity. It should not be present in the dataset, because it creates problem while ranking the most affecting variable.\n",
        "\n",
        "Underfitting and Overfitting: If our algorithm works well with the training dataset but not well with test dataset, then such problem is called Overfitting. And if our algorithm does not perform well even with training dataset, then such problem is called underfitting."
      ]
    },
    {
      "cell_type": "markdown",
      "id": "225cec73",
      "metadata": {
        "id": "225cec73"
      },
      "source": [
        "### Linear Regression:\n",
        "\n",
        "#### Linear regression is a statistical regression method which is used for predictive analysis.\n",
        "#### It is one of the very simple and easy algorithms which works on regression and shows the relationship between the continuous variables.\n",
        "##### It is used for solving the regression problem in machine learning.\n",
        "##### Linear regression shows the linear relationship between the independent variable (X-axis) and the dependent variable (Y-axis), hence called linear regression.\n",
        "##### If there is only one input variable (x), then such linear regression is called simple linear regression. And if there is more than one input variable, then such linear regression is called multiple linear regression.\n",
        "##### The relationship between variables in the linear regression model can be explained using the below image. Here we are predicting the salary of an employee on the basis of the year of experience.\n",
        "\n",
        "[image.png]\n",
        "\n",
        "Below is the mathematical equation for Linear regression:\n",
        "\n",
        "Y= aX+b  \n",
        "\n",
        "Here, Y = dependent variables (target variables),\n",
        "\n",
        "X= Independent variables (predictor variables),\n",
        "\n",
        "a and b are the linear coefficients\n"
      ]
    },
    {
      "cell_type": "markdown",
      "id": "a35aa64d",
      "metadata": {
        "id": "a35aa64d"
      },
      "source": [
        "## Linear Regression"
      ]
    },
    {
      "cell_type": "code",
      "execution_count": 3,
      "id": "02cced1c",
      "metadata": {
        "id": "02cced1c"
      },
      "outputs": [],
      "source": [
        "import numpy as np\n",
        "import matplotlib.pyplot as plt\n",
        "from scipy.stats import linregress\n",
        "\n",
        "# Dataset\n",
        "x = np.array([34, 108, 64, 88, 99, 51])\n",
        "y = np.array([5.00, 17.00, 11.00, 8.00, 14.00, 5.00])"
      ]
    },
    {
      "cell_type": "code",
      "execution_count": 5,
      "id": "24dba8bc",
      "metadata": {
        "id": "24dba8bc"
      },
      "outputs": [],
      "source": [
        "# Perform linear regression\n",
        "slope, intercept, r_value, p_value, std_err = linregress(x, y)\n",
        "\n",
        "# Calculate the predicted y values\n",
        "predicted_y = slope * x + intercept\n",
        "\n",
        "# Calculate SSR, SST, and SSE\n",
        "y_mean = np.mean(y)\n",
        "ssr = np.sum((predicted_y - y_mean) ** 2)\n",
        "sst = np.sum((y - y_mean) ** 2)\n",
        "sse = np.sum((y - predicted_y) ** 2)"
      ]
    },
    {
      "cell_type": "code",
      "execution_count": 6,
      "id": "58197606",
      "metadata": {
        "colab": {
          "base_uri": "https://localhost:8080/",
          "height": 611
        },
        "id": "58197606",
        "outputId": "bdc21368-2874-4ced-fef2-306c2b6c86d5"
      },
      "outputs": [
        {
          "output_type": "display_data",
          "data": {
            "text/plain": [
              "<Figure size 640x480 with 1 Axes>"
            ],
            "image/png": "[encoded data removed]"
          },
          "metadata": {}
        },
        {
          "output_type": "stream",
          "name": "stdout",
          "text": [
            "Slope: 0.14621968616262482\n",
            "Intercept: -0.8202567760342365\n",
            "R-squared: 0.7493758915834522\n",
            "P-Value: 0.02585674101078121\n",
            "Standard Error: 0.04228023725471384\n",
            "SSR (Sum of Squares Regression): 89.92510699001427\n",
            "SST (Total Sum of Squares): 120.0\n",
            "SSE (Sum of Squares Error): 30.074893009985736\n"
          ]
        }
      ],
      "source": [
        "# Plot the data and the regression line\n",
        "plt.scatter(x, y, label='Original Data')\n",
        "plt.plot(x, predicted_y, label='Regression Line', color='red')\n",
        "plt.xlabel('Bill in $')\n",
        "plt.ylabel('Tip Amount in $')\n",
        "plt.title('Linear Regression')\n",
        "plt.legend()\n",
        "\n",
        "# Annotate the regression equation on the chart\n",
        "equation = f'y = {slope:.4f}x + {intercept:.4f}'\n",
        "plt.annotate(equation, xy=(0.1, 0.7), xycoords='axes fraction', fontsize=12)\n",
        "\n",
        "plt.show()\n",
        "\n",
        "# Display regression results\n",
        "print(\"Slope:\", slope)\n",
        "print(\"Intercept:\", intercept)\n",
        "print(\"R-squared:\", r_value ** 2)\n",
        "print(\"P-Value:\", p_value)\n",
        "print(\"Standard Error:\", std_err)\n",
        "print(\"SSR (Sum of Squares Regression):\", ssr)\n",
        "print(\"SST (Total Sum of Squares):\", sst)\n",
        "print(\"SSE (Sum of Squares Error):\", sse)"
      ]
    },
    {
      "cell_type": "code",
      "execution_count": 10,
      "id": "bced9221",
      "metadata": {
        "colab": {
          "base_uri": "https://localhost:8080/"
        },
        "id": "bced9221",
        "outputId": "47414b6e-976d-48df-c2a9-8eeb14227927"
      },
      "outputs": [
        {
          "output_type": "stream",
          "name": "stdout",
          "text": [
            "R-squared (R2): 0.9969486046835048\n"
          ]
        }
      ],
      "source": [
        "# Import necessary libraries\n",
        "import pandas as pd\n",
        "from sklearn.linear_model import LinearRegression\n",
        "from sklearn.model_selection import train_test_split, cross_val_score\n",
        "from sklearn.metrics import precision_score, recall_score, f1_score\n",
        "from sklearn.metrics import mean_squared_error\n",
        "from math import sqrt\n",
        "import matplotlib.pyplot as plt\n",
        "\n",
        "# Read the data from the CSV file\n",
        "data = pd.read_csv('/content/Exam_Scores.csv')\n",
        "\n",
        "# Split the dataset into features (X) and target variable (y)\n",
        "X = data[['Study Hours']]  # Extract the 'Bill Amount' column as the independent variable (features)\n",
        "y = data['Scores']     # Extract the 'Tip Amount' column as the dependent variable (target)\n",
        "\n",
        "# Split the dataset into a training set and a testing set\n",
        "X_train, X_test, y_train, y_test = train_test_split(X, y, test_size=0.2, random_state=42)\n",
        "# The 'train_test_split' function divides the data into training and testing subsets.\n",
        "# 'X_train' and 'y_train' are the features and target for the training set.\n",
        "# 'X_test' and 'y_test' are the features and target for the testing set.\n",
        "# 'test_size' specifies the proportion of data to be used for testing (20% in this case).\n",
        "# 'random_state' is set to ensure reproducibility by seeding the random number generator.\n",
        "\n",
        "# Create a Linear Regression model\n",
        "regr = LinearRegression()\n",
        "# Initialize a Linear Regression model, which is used for regression tasks to model the relationship between variables.\n",
        "\n",
        "# Fit the model to the training data\n",
        "regr.fit(X_train, y_train)\n",
        "# Train the Linear Regression model using the training data, allowing it to learn the relationship between 'Bill Amount' and 'Tip Amount'.\n",
        "\n",
        "# Make predictions on the test data\n",
        "y_pred = regr.predict(X_test)\n",
        "# Use the trained model to make predictions on the test data, resulting in predicted 'Tip Amount' values.\n",
        "\n",
        "# Print the regression results\n",
        "print(f'R-squared (R2): {regr.score(X_test, y_test)}')\n",
        "# Print the R-squared (R2) score, which measures the goodness of fit for the linear regression model.\n",
        "# It quantifies how well the model fits the data.\n",
        "\n",
        "# The following line has an issue:\n",
        "# print(f'Root Mean Squared Error (RMSE): {sqrt(mean_squared_error(y_test, y_pred))}')\n",
        "# The 'mean_squared_error' function from 'sklearn.metrics' is not imported in this code.\n",
        "# You need to import it to calculate the RMSE. Also, 'sqrt' should be changed to 'np.sqrt' since it is using the NumPy library.\n"
      ]
    },
    {
      "cell_type": "code",
      "execution_count": 11,
      "id": "2050af3f",
      "metadata": {
        "colab": {
          "base_uri": "https://localhost:8080/",
          "height": 472
        },
        "id": "2050af3f",
        "outputId": "b78be742-bec0-451b-ec90-f036a6b4e089"
      },
      "outputs": [
        {
          "output_type": "display_data",
          "data": {
            "text/plain": [
              "<Figure size 640x480 with 1 Axes>"
            ],
            "image/png": "[encoded data removed]"
          },
          "metadata": {}
        }
      ],
      "source": [
        "# Plot the data and the regression line\n",
        "plt.scatter(X, y, label='Original Data')\n",
        "plt.plot(X_test, y_pred, label='Regression Line', color='red')\n",
        "plt.xlabel('Study Hours')\n",
        "plt.ylabel('Scores')\n",
        "plt.title('Linear Regression')\n",
        "plt.legend()\n",
        "\n",
        "# Annotate the regression equation on the chart\n",
        "equation = f'y = {regr.coef_[0]:.4f}x + {regr.intercept_:.4f}'\n",
        "plt.annotate(equation, xy=(0.1, 0.7), xycoords='axes fraction', fontsize=12)\n",
        "\n",
        "plt.show()"
      ]
    },
    {
      "cell_type": "markdown",
      "id": "52df639b",
      "metadata": {
        "id": "52df639b"
      },
      "source": [
        "### Cross-validation is a technique used in machine learning to assess the performance and generalizability of a predictive model, such as a regression or classification model. It involves dividing your dataset into multiple subsets, training and evaluating the model on different combinations of these subsets, and then aggregating the results. One common form of cross-validation is k-fold cross-validation, and when k is set to 10, it's referred to as 10-fold cross-validation.\n",
        "\n",
        "#### Here's how 10-fold cross-validation works:\n",
        "\n",
        "#### Data Splitting: The original dataset is divided into 10 equally-sized (or nearly equally-sized) subsets or \"folds.\"\n",
        "\n",
        "#### Iteration: The model is trained and evaluated 10 times, using a different fold as the test set in each iteration, and the remaining nine folds as the training set. In the first iteration, the first fold is the test set, and the other nine are the training set. In the second iteration, the second fold is the test set, and so on.\n",
        "\n",
        "#### Evaluation: For each iteration, the model is trained on the training set and evaluated on the test set. The evaluation metric(s) of interest (e.g., R-squared for regression, accuracy for classification) are recorded.\n",
        "\n",
        "#### Aggregation: After all 10 iterations, the results (e.g., R-squared scores) from each iteration are aggregated to compute an overall assessment of the model's performance. Common aggregation methods include taking the mean or median of the scores.\n",
        "\n",
        "### Benefits of 10-fold cross-validation:\n",
        "\n",
        "#### Robustness: It provides a more robust estimate of a model's performance compared to a single train-test split because it uses multiple different data subsets for training and testing.\n",
        "\n",
        "#### Reduced Variance: It reduces the variance associated with a single train-test split, which can help you gain more confidence in the model's generalization performance.\n",
        "\n",
        "#### Efficient Use of Data: It allows you to make efficient use of your dataset since each data point is used for both training and testing at least once.\n",
        "\n",
        "#### Model Tuning: It can be used to fine-tune hyperparameters or compare different models by comparing their performance over multiple iterations."
      ]
    },
    {
      "cell_type": "code",
      "execution_count": 12,
      "id": "cbaa79c5",
      "metadata": {
        "colab": {
          "base_uri": "https://localhost:8080/"
        },
        "id": "cbaa79c5",
        "outputId": "4886bf23-9bbb-4a5c-a4e1-aa197256039a"
      },
      "outputs": [
        {
          "output_type": "stream",
          "name": "stdout",
          "text": [
            "R-squared (R2): 0.9969486046835048\n",
            "Root Mean Squared Error (RMSE): 0.15526581211937068\n",
            "10-Fold Cross-Validation R-squared scores: [0.99576108 0.99524328 0.99476689 0.99888223 0.99728858 0.99775135\n",
            " 0.99341963 0.99807888 0.99796245 0.99552391]\n"
          ]
        }
      ],
      "source": [
        "#Calculate R-squared\n",
        "r_squared = regr.score(X_test, y_test)\n",
        "\n",
        "# Calculate Root Mean Squared Error (RMSE)\n",
        "mse = mean_squared_error(y_test, y_pred)\n",
        "rmse = np.sqrt(mse)\n",
        "\n",
        "# Perform 10-fold cross-validation and obtain R-squared scores\n",
        "cross_val_scores = cross_val_score(regr, X, y, cv=10)\n",
        "\n",
        "# Print the regression results\n",
        "print(f'R-squared (R2): {r_squared}')\n",
        "print(f'Root Mean Squared Error (RMSE): {rmse}')\n",
        "print(f'10-Fold Cross-Validation R-squared scores: {cross_val_scores}')"
      ]
    },
    {
      "cell_type": "markdown",
      "id": "cfcd7125",
      "metadata": {
        "id": "cfcd7125"
      },
      "source": [
        "### Multiple Regression"
      ]
    },
    {
      "cell_type": "markdown",
      "id": "02a89674",
      "metadata": {
        "id": "02a89674"
      },
      "source": [
        "### We can predict the CO2 emission of a car based on the size of the engine, but with multiple regression we can throw in more variables, like the weight of the car, to make the prediction more accurate."
      ]
    },
    {
      "cell_type": "code",
      "execution_count": null,
      "id": "1e2648ce",
      "metadata": {
        "id": "1e2648ce"
      },
      "outputs": [],
      "source": [
        "# importing libraries\n",
        "import numpy as nm\n",
        "import matplotlib.pyplot as mtp\n",
        "import pandas as pd"
      ]
    },
    {
      "cell_type": "code",
      "execution_count": null,
      "id": "1a3f941e",
      "metadata": {
        "id": "1a3f941e",
        "outputId": "7382d3de-84f6-4b74-c5b6-624c584b366a"
      },
      "outputs": [
        {
          "name": "stdout",
          "output_type": "stream",
          "text": [
            "           Car       Model  Volume  Weight  CO2\n",
            "0       Toyota        Aygo    1000     790   99\n",
            "1   Mitsubishi  Space Star    1200    1160   95\n",
            "2        Skoda      Citigo    1000     929   95\n",
            "3         Fiat         500     900     865   90\n",
            "4         Mini      Cooper    1500    1140  105\n",
            "5           VW         Up!    1000     929  105\n",
            "6        Skoda       Fabia    1400    1109   90\n",
            "7     Mercedes     A-Class    1500    1365   92\n",
            "8         Ford      Fiesta    1500    1112   98\n",
            "9         Audi          A1    1600    1150   99\n",
            "10     Hyundai         I20    1100     980   99\n",
            "11      Suzuki       Swift    1300     990  101\n",
            "12        Ford      Fiesta    1000    1112   99\n",
            "13       Honda       Civic    1600    1252   94\n",
            "14      Hundai         I30    1600    1326   97\n",
            "15        Opel       Astra    1600    1330   97\n",
            "16         BMW           1    1600    1365   99\n",
            "17       Mazda           3    2200    1280  104\n",
            "18       Skoda       Rapid    1600    1119  104\n",
            "19        Ford       Focus    2000    1328  105\n",
            "20        Ford      Mondeo    1600    1584   94\n",
            "21        Opel    Insignia    2000    1428   99\n",
            "22    Mercedes     C-Class    2100    1365   99\n",
            "23       Skoda     Octavia    1600    1415   99\n",
            "24       Volvo         S60    2000    1415   99\n",
            "25    Mercedes         CLA    1500    1465  102\n",
            "26        Audi          A4    2000    1490  104\n",
            "27        Audi          A6    2000    1725  114\n",
            "28       Volvo         V70    1600    1523  109\n",
            "29         BMW           5    2000    1705  114\n",
            "30    Mercedes     E-Class    2100    1605  115\n",
            "31       Volvo        XC70    2000    1746  117\n",
            "32        Ford       B-Max    1600    1235  104\n",
            "33         BMW           2    1600    1390  108\n",
            "34        Opel      Zafira    1600    1405  109\n",
            "35    Mercedes         SLK    2500    1395  120\n"
          ]
        }
      ],
      "source": [
        "#importing datasets\n",
        "data_set= pd.read_csv('MultipleRegre.csv')\n",
        "print(data_set)"
      ]
    },
    {
      "cell_type": "code",
      "execution_count": null,
      "id": "78f30bea",
      "metadata": {
        "id": "78f30bea"
      },
      "outputs": [],
      "source": [
        "#Extracting Independent and dependent Variable\n",
        "X = data_set[['Weight', 'Volume']]\n",
        "y = data_set['CO2']\n"
      ]
    },
    {
      "cell_type": "markdown",
      "id": "934defc6",
      "metadata": {
        "id": "934defc6"
      },
      "source": [
        "#### We will use some methods from the sklearn module, so we will have to import that module as well:"
      ]
    },
    {
      "cell_type": "code",
      "execution_count": null,
      "id": "6ca72e20",
      "metadata": {
        "id": "6ca72e20"
      },
      "outputs": [],
      "source": [
        "from sklearn import linear_model"
      ]
    },
    {
      "cell_type": "markdown",
      "id": "c95dc2c7",
      "metadata": {
        "id": "c95dc2c7"
      },
      "source": [
        "From the sklearn module we will use the LinearRegression() method to create a linear regression object.\n",
        "\n",
        "This object has a method called fit() that takes the independent and dependent values as parameters and fills the regression object with data that describes the relationship:"
      ]
    },
    {
      "cell_type": "code",
      "execution_count": null,
      "id": "023e7007",
      "metadata": {
        "id": "023e7007",
        "outputId": "e6c1dc1e-1d46-450d-d65c-396bd63d1622"
      },
      "outputs": [
        {
          "data": {
            "text/html": [
              "<style>#sk-container-id-1 {color: black;}#sk-container-id-1 pre{padding: 0;}#sk-container-id-1 div.sk-toggleable {background-color: white;}#sk-container-id-1 label.sk-toggleable__label {cursor: pointer;display: block;width: 100%;margin-bottom: 0;padding: 0.3em;box-sizing: border-box;text-align: center;}#sk-container-id-1 label.sk-toggleable__label-arrow:before {content: \"▸\";float: left;margin-right: 0.25em;color: #696969;}#sk-container-id-1 label.sk-toggleable__label-arrow:hover:before {color: black;}#sk-container-id-1 div.sk-estimator:hover label.sk-toggleable__label-arrow:before {color: black;}#sk-container-id-1 div.sk-toggleable__content {max-height: 0;max-width: 0;overflow: hidden;text-align: left;background-color: #f0f8ff;}#sk-container-id-1 div.sk-toggleable__content pre {margin: 0.2em;color: black;border-radius: 0.25em;background-color: #f0f8ff;}#sk-container-id-1 input.sk-toggleable__control:checked~div.sk-toggleable__content {max-height: 200px;max-width: 100%;overflow: auto;}#sk-container-id-1 input.sk-toggleable__control:checked~label.sk-toggleable__label-arrow:before {content: \"▾\";}#sk-container-id-1 div.sk-estimator input.sk-toggleable__control:checked~label.sk-toggleable__label {background-color: #d4ebff;}#sk-container-id-1 div.sk-label input.sk-toggleable__control:checked~label.sk-toggleable__label {background-color: #d4ebff;}#sk-container-id-1 input.sk-hidden--visually {border: 0;clip: rect(1px 1px 1px 1px);clip: rect(1px, 1px, 1px, 1px);height: 1px;margin: -1px;overflow: hidden;padding: 0;position: absolute;width: 1px;}#sk-container-id-1 div.sk-estimator {font-family: monospace;background-color: #f0f8ff;border: 1px dotted black;border-radius: 0.25em;box-sizing: border-box;margin-bottom: 0.5em;}#sk-container-id-1 div.sk-estimator:hover {background-color: #d4ebff;}#sk-container-id-1 div.sk-parallel-item::after {content: \"\";width: 100%;border-bottom: 1px solid gray;flex-grow: 1;}#sk-container-id-1 div.sk-label:hover label.sk-toggleable__label {background-color: #d4ebff;}#sk-container-id-1 div.sk-serial::before {content: \"\";position: absolute;border-left: 1px solid gray;box-sizing: border-box;top: 0;bottom: 0;left: 50%;z-index: 0;}#sk-container-id-1 div.sk-serial {display: flex;flex-direction: column;align-items: center;background-color: white;padding-right: 0.2em;padding-left: 0.2em;position: relative;}#sk-container-id-1 div.sk-item {position: relative;z-index: 1;}#sk-container-id-1 div.sk-parallel {display: flex;align-items: stretch;justify-content: center;background-color: white;position: relative;}#sk-container-id-1 div.sk-item::before, #sk-container-id-1 div.sk-parallel-item::before {content: \"\";position: absolute;border-left: 1px solid gray;box-sizing: border-box;top: 0;bottom: 0;left: 50%;z-index: -1;}#sk-container-id-1 div.sk-parallel-item {display: flex;flex-direction: column;z-index: 1;position: relative;background-color: white;}#sk-container-id-1 div.sk-parallel-item:first-child::after {align-self: flex-end;width: 50%;}#sk-container-id-1 div.sk-parallel-item:last-child::after {align-self: flex-start;width: 50%;}#sk-container-id-1 div.sk-parallel-item:only-child::after {width: 0;}#sk-container-id-1 div.sk-dashed-wrapped {border: 1px dashed gray;margin: 0 0.4em 0.5em 0.4em;box-sizing: border-box;padding-bottom: 0.4em;background-color: white;}#sk-container-id-1 div.sk-label label {font-family: monospace;font-weight: bold;display: inline-block;line-height: 1.2em;}#sk-container-id-1 div.sk-label-container {text-align: center;}#sk-container-id-1 div.sk-container {/* jupyter's `normalize.less` sets `[hidden] { display: none; }` but bootstrap.min.css set `[hidden] { display: none !important; }` so we also need the `!important` here to be able to override the default hidden behavior on the sphinx rendered scikit-learn.org. See: https://github.com/scikit-learn/scikit-learn/issues/21755 */display: inline-block !important;position: relative;}#sk-container-id-1 div.sk-text-repr-fallback {display: none;}</style><div id=\"sk-container-id-1\" class=\"sk-top-container\"><div class=\"sk-text-repr-fallback\"><pre>LinearRegression()</pre><b>In a Jupyter environment, please rerun this cell to show the HTML representation or trust the notebook. <br />On GitHub, the HTML representation is unable to render, please try loading this page with nbviewer.org.</b></div><div class=\"sk-container\" hidden><div class=\"sk-item\"><div class=\"sk-estimator sk-toggleable\"><input class=\"sk-toggleable__control sk-hidden--visually\" id=\"sk-estimator-id-1\" type=\"checkbox\" checked><label for=\"sk-estimator-id-1\" class=\"sk-toggleable__label sk-toggleable__label-arrow\">LinearRegression</label><div class=\"sk-toggleable__content\"><pre>LinearRegression()</pre></div></div></div></div></div>"
            ],
            "text/plain": [
              "LinearRegression()"
            ]
          },
          "execution_count": 12,
          "metadata": {},
          "output_type": "execute_result"
        }
      ],
      "source": [
        "regr = linear_model.LinearRegression()\n",
        "regr.fit(X, y)"
      ]
    },
    {
      "cell_type": "code",
      "execution_count": null,
      "id": "a630f8ee",
      "metadata": {
        "id": "a630f8ee",
        "outputId": "41ec9389-1488-40e0-ab3d-54106a5eb407"
      },
      "outputs": [
        {
          "name": "stdout",
          "output_type": "stream",
          "text": [
            "[107.2087328]\n"
          ]
        }
      ],
      "source": [
        "# Create a DataFrame with named columns for features\n",
        "data_for_prediction = pd.DataFrame({'Weight': [2300], 'Volume': [1300]})\n",
        "\n",
        "# Make the prediction\n",
        "predictedCO2 = regr.predict(data_for_prediction)\n",
        "print(predictedCO2)"
      ]
    },
    {
      "cell_type": "markdown",
      "id": "69b30482",
      "metadata": {
        "id": "69b30482"
      },
      "source": [
        "### Coefficient\n",
        "\n",
        "The coefficient is a factor that describes the relationship with an unknown variable.\n",
        "\n",
        "Example: if x is a variable, then 2x is x two times. x is the unknown variable, and the number 2 is the coefficient.\n",
        "\n",
        "In this case, we can ask for the coefficient value of weight against CO2, and for volume against CO2. The answer(s) we get tells us what would happen if we increase, or decrease, one of the independent values."
      ]
    },
    {
      "cell_type": "code",
      "execution_count": null,
      "id": "014126ec",
      "metadata": {
        "id": "014126ec",
        "outputId": "cf2f64ba-5711-4e3d-ed67-9d0503d54aa5"
      },
      "outputs": [
        {
          "name": "stdout",
          "output_type": "stream",
          "text": [
            "[0.00755095 0.00780526]\n"
          ]
        }
      ],
      "source": [
        "X = data_set[['Weight', 'Volume']]\n",
        "y = data_set['CO2']\n",
        "\n",
        "regr = linear_model.LinearRegression()\n",
        "regr.fit(X, y)\n",
        "\n",
        "print(regr.coef_)"
      ]
    },
    {
      "cell_type": "markdown",
      "id": "fc18c0c5",
      "metadata": {
        "id": "fc18c0c5"
      },
      "source": [
        "#### Result Explained\n",
        "\n",
        "The result array represents the coefficient values of weight and volume.\n",
        "\n",
        "Weight: 0.00755095\n",
        "Volume: 0.00780526\n",
        "\n",
        "These values tell us that if the weight increase by 1kg, the CO2 emission increases by 0.00755095g.\n",
        "\n",
        "And if the engine size (Volume) increases by 1 cm3, the CO2 emission increases by 0.00780526 g.\n",
        "\n",
        "I think that is a fair guess, but let test it!\n",
        "\n",
        "We have already predicted that if a car with a 1300cm3 engine weighs 2300kg, the CO2 emission will be approximately 107g.\n",
        "\n",
        "What if we increase the weight with 1000kg?"
      ]
    },
    {
      "cell_type": "code",
      "execution_count": null,
      "id": "2ee16a66",
      "metadata": {
        "id": "2ee16a66",
        "outputId": "92c9e2f5-bdb3-48d1-be15-9a05793b92b2"
      },
      "outputs": [
        {
          "name": "stdout",
          "output_type": "stream",
          "text": [
            "R-squared (R2): 0.32941109624012743\n",
            "Root Mean Squared Error (RMSE): 7.620976698335832\n"
          ]
        }
      ],
      "source": [
        "import pandas as pd\n",
        "from sklearn.model_selection import train_test_split\n",
        "from sklearn.linear_model import LinearRegression\n",
        "from sklearn.metrics import r2_score, mean_squared_error\n",
        "from math import sqrt\n",
        "\n",
        "# Load your dataset into a DataFrame\n",
        "# Assuming your dataset has columns \"Volume,\" \"Weight,\" and \"CO2\"\n",
        "# Replace 'your_dataset.csv' with the actual dataset file path\n",
        "#df = pd.read_csv('your_dataset.csv')\n",
        "df= pd.read_csv('MultipleRegre.csv')\n",
        "# Split the data into features (X) and target variable (y)\n",
        "X = df[['Volume', 'Weight']]\n",
        "y = df['CO2']\n",
        "\n",
        "# Split the dataset into a training set and a testing set\n",
        "X_train, X_test, y_train, y_test = train_test_split(X, y, test_size=0.2, random_state=42)\n",
        "\n",
        "# Create a Linear Regression model\n",
        "regr = LinearRegression()\n",
        "\n",
        "# Fit the model to the training data\n",
        "regr.fit(X_train, y_train)\n",
        "\n",
        "# Make predictions on the test data\n",
        "y_pred = regr.predict(X_test)\n",
        "\n",
        "# Calculate the R-squared (R2) metric\n",
        "r2 = r2_score(y_test, y_pred)\n",
        "\n",
        "# Calculate Root Mean Squared Error (RMSE)\n",
        "rmse = sqrt(mean_squared_error(y_test, y_pred))\n",
        "#Root Mean Squared Error (RMSE) is a commonly used metric in regression problems to evaluate the performance of a predictive model.\n",
        "#It measures the average magnitude of the residuals or prediction errors, providing valuable insights into the quality of the model's predictions.\n",
        "print(f'R-squared (R2): {r2}')\n",
        "print(f'Root Mean Squared Error (RMSE): {rmse}')\n"
      ]
    },
    {
      "cell_type": "code",
      "execution_count": null,
      "id": "91b06520",
      "metadata": {
        "id": "91b06520",
        "outputId": "2eda2867-ec7f-43f6-b901-537b3fa7f432"
      },
      "outputs": [
        {
          "name": "stdout",
          "output_type": "stream",
          "text": [
            "R-squared (R2): 0.32941109624012743\n",
            "Root Mean Squared Error (RMSE): 7.620976698335832\n"
          ]
        }
      ],
      "source": [
        "import pandas as pd\n",
        "from sklearn.model_selection import train_test_split\n",
        "from sklearn.linear_model import LinearRegression\n",
        "from sklearn.metrics import r2_score, mean_squared_error\n",
        "from sklearn.metrics import accuracy_score, precision_score, recall_score, f1_score\n",
        "from math import sqrt\n",
        "\n",
        "# Load your dataset into a DataFrame\n",
        "df = pd.read_csv('MultipleRegre.csv')\n",
        "\n",
        "# Split the data into features (X) and target variable (y)\n",
        "X = df[['Volume', 'Weight']]\n",
        "y = df['CO2']\n",
        "\n",
        "# Split the dataset into a training set and a testing set\n",
        "X_train, X_test, y_train, y_test = train_test_split(X, y, test_size=0.2, random_state=42)\n",
        "\n",
        "# Create a Linear Regression model\n",
        "regr = LinearRegression()\n",
        "\n",
        "# Fit the model to the training data\n",
        "regr.fit(X_train, y_train)\n",
        "\n",
        "# Make predictions on the test data\n",
        "y_pred = regr.predict(X_test)\n",
        "\n",
        "# Calculate the R-squared (R2) metric\n",
        "r2 = r2_score(y_test, y_pred)\n",
        "\n",
        "# Calculate Root Mean Squared Error (RMSE)\n",
        "rmse = sqrt(mean_squared_error(y_test, y_pred))\n",
        "\n",
        "# Additional evaluation metrics for regression\n",
        "print(f'R-squared (R2): {r2}')\n",
        "print(f'Root Mean Squared Error (RMSE): {rmse}')\n"
      ]
    },
    {
      "cell_type": "code",
      "execution_count": null,
      "id": "53c0c8df",
      "metadata": {
        "id": "53c0c8df",
        "outputId": "25566caa-6e1f-4381-fb43-aa587f313ac5"
      },
      "outputs": [
        {
          "data": {
            "image/png": "[encoded data removed]",
            "text/plain": [
              "<Figure size 1200x400 with 2 Axes>"
            ]
          },
          "metadata": {},
          "output_type": "display_data"
        }
      ],
      "source": [
        "import matplotlib.pyplot as plt\n",
        "\n",
        "# Assuming you have a DataFrame df with columns 'Volume', 'Weight', and 'CO2'\n",
        "# Replace 'your_dataset.csv' with the actual dataset file path if needed\n",
        "#df = pd.read_csv('your_dataset.csv')\n",
        "\n",
        "# Create subplots for each feature\n",
        "fig, axes = plt.subplots(1, 2, figsize=(12, 4))\n",
        "\n",
        "# Scatter plot for 'Volume' vs. 'CO2'\n",
        "axes[0].scatter(df['Volume'], df['CO2'], alpha=0.5)\n",
        "axes[0].set_xlabel('Volume')\n",
        "axes[0].set_ylabel('CO2')\n",
        "axes[0].set_title('Scatter Plot: Volume vs. CO2')\n",
        "\n",
        "# Scatter plot for 'Weight' vs. 'CO2'\n",
        "axes[1].scatter(df['Weight'], df['CO2'], alpha=0.5)\n",
        "axes[1].set_xlabel('Weight')\n",
        "axes[1].set_ylabel('CO2')\n",
        "axes[1].set_title('Scatter Plot: Weight vs. CO2')\n",
        "\n",
        "plt.tight_layout()\n",
        "plt.show()\n"
      ]
    },
    {
      "cell_type": "code",
      "execution_count": null,
      "id": "cdb13d28",
      "metadata": {
        "id": "cdb13d28",
        "outputId": "557279e1-2673-4350-b680-9d388089e320"
      },
      "outputs": [
        {
          "data": {
            "image/png": "[encoded data removed]",
            "text/plain": [
              "<Figure size 640x480 with 1 Axes>"
            ]
          },
          "metadata": {},
          "output_type": "display_data"
        }
      ],
      "source": [
        "# Scatter plot for 'Volume' vs. 'CO2'\n",
        "plt.scatter(df['Volume'], df['CO2'], alpha=0.5)\n",
        "plt.xlabel('Volume')\n",
        "plt.ylabel('CO2')\n",
        "plt.title('Scatter Plot: Volume vs. CO2')\n",
        "plt.show()\n"
      ]
    },
    {
      "cell_type": "markdown",
      "id": "da8dc48a",
      "metadata": {
        "id": "da8dc48a"
      },
      "source": [
        "## What is scoring matrix?\n",
        "\n",
        "### In machine learning, the scoring metric, or scoring function, is a predefined measure used to evaluate the performance of a model on a particular task. It quantifies how well the model predictions align with the actual true values.\n",
        "\n",
        "### Scoring metrics are used in various stages of model development, including model training, validation, and testing, as well as in hyperparameter tuning and model selection. The choice of scoring metric depends on the nature of the problem you're trying to solve (classification, regression, clustering, etc.) and the specific goals or requirements of the task.\n",
        "\n",
        "### For different types of machine learning tasks, there are different scoring metrics:\n",
        "\n",
        "## Regression Problems:\n",
        "\n",
        "### Mean Squared Error (MSE): Measures the average squared difference between the predicted values and the actual values.\n",
        "### Root Mean Squared Error (RMSE): The square root of MSE, providing a measure in the same units as the target variable.\n",
        "### R-squared (Coefficient of Determination): Indicates the proportion of variance in the dependent variable that is predictable from the independent variables.\n",
        "\n",
        "## Classification Problems:\n",
        "\n",
        "### Accuracy: Measures the fraction of correctly classified instances among the total instances.\n",
        "### Precision: Measures the proportion of correctly predicted positive instances among the total predicted positive instances.\n",
        "### Recall (Sensitivity): Measures the proportion of correctly predicted positive instances among the actual positive instances.\n",
        "### F1 Score: The harmonic mean of precision and recall, balancing both metrics.\n",
        "### ROC-AUC: Receiver Operating Characteristic - Area Under Curve, used for binary classification to evaluate the model's ability to discriminate between positive and negative classes across different thresholds."
      ]
    },
    {
      "cell_type": "code",
      "execution_count": null,
      "id": "cb2f3912",
      "metadata": {
        "id": "cb2f3912",
        "outputId": "e93a784c-f896-4ea6-f24f-fc0c018cabca"
      },
      "outputs": [
        {
          "name": "stdout",
          "output_type": "stream",
          "text": [
            "Cross-validation RMSE scores:\n",
            "Fold 1: 2238.38\n",
            "Fold 2: 2553.12\n",
            "Fold 3: 3743.75\n",
            "Fold 4: 3308.07\n",
            "Fold 5: 2395.41\n",
            "Fold 6: 1342.43\n",
            "Fold 7: 492.86\n",
            "Fold 8: 3486.52\n",
            "Fold 9: 5272.37\n",
            "Fold 10: 9725.75\n",
            "\n",
            "Overall R-squared (R2): 0.82\n",
            "Overall Root Mean Squared Error (RMSE): 2466.37\n"
          ]
        }
      ],
      "source": [
        "import pandas as pd\n",
        "from sklearn.model_selection import cross_val_score\n",
        "from sklearn.linear_model import LinearRegression\n",
        "from sklearn.metrics import mean_squared_error, make_scorer\n",
        "from math import sqrt\n",
        "\n",
        "# Load the dataset\n",
        "df = pd.read_csv('CarDetails1.csv')\n",
        "\n",
        "# Define your feature matrix (X) and target variable (y)\n",
        "X = df[['Age', 'Mileage', 'Engine Size (in liters)', 'Horsepower', 'Number of Owners']]\n",
        "y = df['Selling Price']\n",
        "\n",
        "# Create a Linear Regression model\n",
        "regr = LinearRegression()\n",
        "\n",
        "# Define RMSE as the scoring metric for cross-validation\n",
        "rmse_scorer = make_scorer(lambda y_true, y_pred: sqrt(mean_squared_error(y_true, y_pred)))\n",
        "\n",
        "# Perform 10-fold cross-validation and get the RMSE scores\n",
        "cross_val_scores = cross_val_score(regr, X, y, cv=10, scoring=rmse_scorer)\n",
        "\n",
        "# Print the RMSE scores\n",
        "print(\"Cross-validation RMSE scores:\")\n",
        "for i, score in enumerate(cross_val_scores, start=1):\n",
        "    print(f\"Fold {i}: {score:.2f}\")\n",
        "\n",
        "#The enumerate() function in Python is often used when iterating through an iterable (such as a list, tuple, or array)\n",
        "## to obtain both the elements and their corresponding indices simultaneously.\n",
        "# Using enumerate() in this manner is a convenient way to display both the fold numbers and their associated RMSE scores\n",
        "## when printing the results of cross-validation.\n",
        "## It simplifies the process of displaying the results in a clear and organized manner, especially when dealing with multiple\n",
        "##values or elements within an iterable.\n",
        "\n",
        "\n",
        "# Calculate R-squared (R2) and RMSE for the entire dataset\n",
        "regr.fit(X, y)\n",
        "y_pred = regr.predict(X)\n",
        "r2 = regr.score(X, y)\n",
        "rmse = sqrt(mean_squared_error(y, y_pred))\n",
        "\n",
        "# Print the R-squared and RMSE scores for the entire dataset\n",
        "print(f'\\nOverall R-squared (R2): {r2:.2f}')\n",
        "print(f'Overall Root Mean Squared Error (RMSE): {rmse:.2f}')\n"
      ]
    },
    {
      "cell_type": "code",
      "execution_count": null,
      "id": "ed7c09ab",
      "metadata": {
        "id": "ed7c09ab",
        "outputId": "d122f61e-fd62-4dc2-ef2b-9a88913d7f4e"
      },
      "outputs": [
        {
          "name": "stdout",
          "output_type": "stream",
          "text": [
            "Training R-squared (R2): 0.75\n",
            "Testing R-squared (R2): 0.45\n",
            "Training RMSE: 2260.95\n",
            "Testing RMSE: 6229.82\n"
          ]
        }
      ],
      "source": [
        "import pandas as pd\n",
        "from sklearn.model_selection import train_test_split\n",
        "from sklearn.linear_model import LinearRegression\n",
        "from sklearn.metrics import r2_score, mean_squared_error\n",
        "from math import sqrt\n",
        "\n",
        "# Load the dataset\n",
        "df = pd.read_csv('CarDetails1.csv')\n",
        "\n",
        "# Define your feature matrix (X) and target variable (y)\n",
        "X = df[['Age', 'Mileage', 'Engine Size (in liters)', 'Horsepower', 'Number of Owners']]\n",
        "y = df['Selling Price']\n",
        "\n",
        "# Split the dataset into a training set and a testing set\n",
        "X_train, X_test, y_train, y_test = train_test_split(X, y, test_size=0.2, random_state=42)\n",
        "\n",
        "# Create a Linear Regression model\n",
        "regr = LinearRegression()\n",
        "\n",
        "# Fit the model to the training data\n",
        "regr.fit(X_train, y_train)\n",
        "\n",
        "# Make predictions on the training data\n",
        "y_train_pred = regr.predict(X_train)\n",
        "\n",
        "# Make predictions on the testing data\n",
        "y_test_pred = regr.predict(X_test)\n",
        "\n",
        "# Calculate R-squared (accuracy) for training and testing\n",
        "r2_train = r2_score(y_train, y_train_pred)\n",
        "r2_test = r2_score(y_test, y_test_pred)\n",
        "\n",
        "# Calculate Root Mean Squared Error (RMSE) for training and testing\n",
        "rmse_train = sqrt(mean_squared_error(y_train, y_train_pred))\n",
        "rmse_test = sqrt(mean_squared_error(y_test, y_test_pred))\n",
        "\n",
        "# Print the results\n",
        "print(\"Training R-squared (R2): {:.2f}\".format(r2_train))\n",
        "print(\"Testing R-squared (R2): {:.2f}\".format(r2_test))\n",
        "print(\"Training RMSE: {:.2f}\".format(rmse_train))\n",
        "print(\"Testing RMSE: {:.2f}\".format(rmse_test))\n"
      ]
    },
    {
      "cell_type": "code",
      "execution_count": null,
      "id": "fce7394e",
      "metadata": {
        "id": "fce7394e",
        "outputId": "8b699319-c1ce-47e2-e8b1-35ba99512a12"
      },
      "outputs": [
        {
          "name": "stdout",
          "output_type": "stream",
          "text": [
            "R-squared (R2): 0.82\n",
            "Root Mean Squared Error (RMSE): 2466.37\n"
          ]
        }
      ],
      "source": [
        "\n",
        "import pandas as pd\n",
        "from sklearn.linear_model import LinearRegression\n",
        "from sklearn.metrics import mean_squared_error, r2_score\n",
        "from math import sqrt\n",
        "\n",
        "# Load the dataset\n",
        "df = pd.read_csv('CarDetails1.csv')\n",
        "\n",
        "# Define your feature matrix (X) and target variable (y)\n",
        "X = df[['Age', 'Mileage', 'Engine Size (in liters)', 'Horsepower', 'Number of Owners']]\n",
        "y = df['Selling Price']\n",
        "\n",
        "# Create a Linear Regression model\n",
        "regr = LinearRegression()\n",
        "\n",
        "# Fit the model to the data\n",
        "regr.fit(X, y)\n",
        "\n",
        "# Make predictions\n",
        "y_pred = regr.predict(X)\n",
        "\n",
        "# Calculate R-squared (R2) and RMSE\n",
        "r2 = r2_score(y, y_pred)\n",
        "rmse = sqrt(mean_squared_error(y, y_pred))\n",
        "\n",
        "# Print the R-squared and RMSE scores\n",
        "print(f'R-squared (R2): {r2:.2f}')\n",
        "print(f'Root Mean Squared Error (RMSE): {rmse:.2f}')"
      ]
    },
    {
      "cell_type": "markdown",
      "id": "3fa5296d",
      "metadata": {
        "id": "3fa5296d"
      },
      "source": [
        "if you're predicting housing prices in dollars, an RMSE of 2466.37 would mean that, on average, the model's predictions deviate from the true prices by approximately $2466.37. Lower RMSE values signify better predictive accuracy, as they indicate smaller average errors between predictions and actual values. In contrast, higher RMSE values indicate larger average errors, suggesting the model is less accurate in predicting the target variable."
      ]
    },
    {
      "cell_type": "code",
      "execution_count": null,
      "id": "e1387a0a",
      "metadata": {
        "id": "e1387a0a",
        "outputId": "55960a1c-b773-40b6-ab1c-97f377686771"
      },
      "outputs": [
        {
          "name": "stdout",
          "output_type": "stream",
          "text": [
            "Cross-validation R-squared scores:\n",
            "Fold 1: -0.20\n",
            "Fold 2: -0.05\n",
            "Fold 3: -0.26\n",
            "Fold 4: 0.86\n",
            "Fold 5: 0.37\n",
            "Fold 6: -1.50\n",
            "Fold 7: 0.97\n",
            "Fold 8: 0.51\n",
            "Fold 9: -2.09\n",
            "Fold 10: -93.59\n",
            "\n",
            "Overall R-squared (R2): 0.82\n"
          ]
        }
      ],
      "source": [
        "import pandas as pd\n",
        "from sklearn.model_selection import cross_val_score\n",
        "from sklearn.linear_model import LinearRegression\n",
        "\n",
        "# Load the dataset\n",
        "df = pd.read_csv('CarDetails1.csv')\n",
        "\n",
        "# Define your feature matrix (X) and target variable (y)\n",
        "X = df[['Age', 'Mileage', 'Engine Size (in liters)', 'Horsepower', 'Number of Owners']]\n",
        "y = df['Selling Price']\n",
        "\n",
        "# Create a Linear Regression model\n",
        "regr = LinearRegression()\n",
        "\n",
        "# Perform 10-fold cross-validation and get R-squared scores (accuracy)\n",
        "cross_val_scores = cross_val_score(regr, X, y, cv=10, scoring='r2')\n",
        "\n",
        "# Print the R-squared scores for each fold\n",
        "print(\"Cross-validation R-squared scores:\")\n",
        "for i, score in enumerate(cross_val_scores, start=1):\n",
        "    print(f\"Fold {i}: {score:.2f}\")\n",
        "\n",
        "# Calculate R-squared (R2) for the entire dataset\n",
        "regr.fit(X, y)\n",
        "r2 = regr.score(X, y)\n",
        "\n",
        "# Print the overall R-squared score for the entire dataset\n",
        "print(f'\\nOverall R-squared (R2): {r2:.2f}')\n"
      ]
    },
    {
      "cell_type": "markdown",
      "id": "37602451",
      "metadata": {
        "id": "37602451"
      },
      "source": [
        "\n",
        "### Based on the provided cross-validation R-squared scores and the overall R-squared (R2) score, it appears that the model may be overfitting. Here's the analysis:\n",
        "\n",
        "### Cross-validation R-squared scores vary widely between the different folds. This variability suggests that the model's performance is not consistent across different subsets of the data.\n",
        "\n",
        "### The R-squared scores in some folds are quite high (e.g., Fold 4: 0.86, Fold 7: 0.97), indicating good fit between the model and the data in those cases.\n",
        "\n",
        "### However, in several other folds, the R-squared scores are significantly negative, indicating a poor fit between the model and the data (e.g., Fold 6: -1.50, Fold 9: -2.09, Fold 10: -93.59).\n",
        "\n",
        "### The overall R-squared score for the entire dataset is relatively high (0.82), which suggests that the model explains a significant portion of the variance in the target variable. However, it doesn't necessarily mean that the model is not overfitting, as the cross-validation results are inconsistent.\n",
        "\n",
        "### In summary, the wide variability in cross-validation scores and the occurrence of significantly negative R-squared values in some folds are indicative of overfitting. It's essential to investigate further, potentially by using more robust modeling techniques, regularization, or feature selection to improve the model's generalization and address overfitting issues."
      ]
    },
    {
      "cell_type": "markdown",
      "id": "6bec90ad",
      "metadata": {
        "id": "6bec90ad"
      },
      "source": [
        "![image.png](attachment:image.png)"
      ]
    },
    {
      "cell_type": "markdown",
      "id": "3053bbf0",
      "metadata": {
        "id": "3053bbf0"
      },
      "source": [
        "### Lasso Regression and Ridge Regression are two techniques used in linear regression to handle multicollinearity and prevent overfitting. Both methods add a regularization term to the linear regression cost function.\n",
        "\n",
        "### Lasso Regression (L1 Regularization):\n",
        "\n",
        "Lasso stands for \"Least Absolute Shrinkage and Selection Operator.\"\n",
        "\n",
        "It adds a penalty term equal to the absolute values of the regression coefficients to the cost function.\n",
        "\n",
        "Lasso can be used for feature selection because it tends to drive some of the coefficients to exactly zero, effectively removing those features from the model.\n",
        "\n",
        "It helps prevent overfitting by limiting the complexity of the model.\n",
        "\n",
        "Lasso regression uses a hyperparameter called \"alpha\" (also known as the regularization strength) to control the magnitude of the regularization term. A higher alpha value results in more coefficients being shrunk to zero.\n",
        "\n",
        "### Ridge Regression (L2 Regularization):\n",
        "\n",
        "Ridge Regression adds a penalty term equal to the square of the regression coefficients to the cost function.\n",
        "\n",
        "It doesn't lead to exact zero coefficients, but it shrinks the coefficients toward zero, reducing their impact on the model.\n",
        "\n",
        "Ridge regression helps mitigate multicollinearity, making it useful when there are highly correlated features in the dataset.\n",
        "\n",
        "It also prevents overfitting and stabilizes the model.\n",
        "\n",
        "Like Lasso, Ridge regression uses an \"alpha\" parameter to control the strength of the regularization. A higher alpha results in stronger regularization.\n",
        "\n",
        "\n",
        "\n",
        "The choice between Lasso and Ridge Regression depends on the specific problem, the data, and the desired outcome. Lasso is preferred when feature selection is necessary or when there are a large number of features, some of which might be irrelevant. Ridge is preferred when multicollinearity is a concern, and you want to keep all features in the model.\n",
        "\n",
        "\n",
        "The \"Lasso_alpha\" and \"Ridge_alpha\" values are the hyperparameters that control the strength of regularization in the Lasso and Ridge regression models, respectively. You can choose these values based on the specific problem and the trade-off between model complexity and accuracy. A higher alpha value leads to stronger regularization, which results in simpler models with smaller coefficients but potentially lower predictive performance. You typically perform hyperparameter tuning to find the best alpha value for your particular dataset and problem.\n"
      ]
    },
    {
      "cell_type": "markdown",
      "id": "d048c236",
      "metadata": {
        "id": "d048c236"
      },
      "source": [
        "![image.png](attachment:image.png)"
      ]
    },
    {
      "cell_type": "markdown",
      "id": "ade174f1",
      "metadata": {
        "id": "ade174f1"
      },
      "source": [
        "\n",
        "### Hyperparameters in machine learning are configuration settings or parameters set prior to the model's training process. These parameters guide the learning process, affecting how the algorithm learns and influences the final model's performance.\n",
        "\n",
        "### Unlike model parameters, which are learned during training (e.g., coefficients in linear regression), hyperparameters are not learned from the data but are set externally by the data scientist or machine learning engineer. They can significantly impact the model's behavior and performance. Examples of hyperparameters include:\n",
        "\n",
        "### Regularization parameter (alpha, lambda): In models like Ridge and Lasso regression, this controls the degree of regularization applied to prevent overfitting.\n",
        "\n",
        "### Learning rate: Used in gradient descent-based optimization algorithms (e.g., in neural networks), determining the step size for updating model weights during training.\n",
        "\n",
        "### Number of estimators: For ensemble methods like Random Forest or Gradient Boosting, it defines the number of individual models (trees) to be built.\n",
        "\n",
        "### Kernel type and gamma (in SVMs): The kernel function and its parameters that affect the shape and flexibility of the decision boundary.\n",
        "\n",
        "### Hyperparameters are chosen before training the model and are not updated during the training process; hence, finding optimal hyperparameters is crucial for achieving the best model performance. Techniques like grid search, random search, or more advanced methods like Bayesian optimization are used to explore and select the best hyperparameter values based on some evaluation metric (e.g., accuracy, R-squared, F1-score) using cross-validation on the training data.\n",
        "\n"
      ]
    },
    {
      "cell_type": "code",
      "execution_count": null,
      "id": "7dc9e7bd",
      "metadata": {
        "id": "7dc9e7bd",
        "outputId": "7ef6489f-d99b-418a-8dc6-fad681bd3b99"
      },
      "outputs": [
        {
          "name": "stdout",
          "output_type": "stream",
          "text": [
            "Cross-validation R-squared scores:\n",
            "Fold 1: -0.20\n",
            "Fold 2: -0.09\n",
            "Fold 3: -0.02\n",
            "Fold 4: 0.81\n",
            "Fold 5: 0.45\n",
            "Fold 6: -1.60\n",
            "Fold 7: 0.98\n",
            "Fold 8: 0.53\n",
            "Fold 9: -2.04\n",
            "Fold 10: -92.97\n",
            "Overall R-squared (R2): 0.5517111819493181\n",
            "Root Mean Squared Error (RMSE): 5637.259636820546\n"
          ]
        }
      ],
      "source": [
        "import pandas as pd\n",
        "from sklearn.model_selection import train_test_split, cross_val_score\n",
        "from sklearn.linear_model import Ridge\n",
        "from sklearn.metrics import r2_score, mean_squared_error\n",
        "from math import sqrt\n",
        "\n",
        "# Load your dataset into a DataFrame\n",
        "# Replace 'your_dataset.csv' with the actual dataset file path\n",
        "# Load the dataset\n",
        "df = pd.read_csv('CarDetails1.csv')\n",
        "\n",
        "# Define your feature matrix (X) and target variable (y)\n",
        "X = df[['Age', 'Mileage','Engine Size (in liters)', 'Horsepower', 'Number of Owners']]\n",
        "y = df['Selling Price']\n",
        "\n",
        "# Split the dataset into a training set and a testing set\n",
        "X_train, X_test, y_train, y_test = train_test_split(X, y, test_size=0.2, random_state=42)\n",
        "\n",
        "# Create a Ridge Regression model with regularization strength (alpha)\n",
        "alpha = 1.0  # You can adjust the alpha value\n",
        "regr = Ridge(alpha=alpha)\n",
        "\n",
        "# Perform 10-fold cross-validation and get the R-squared scores\n",
        "cross_val_scores = cross_val_score(regr, X, y, cv=10, scoring='r2')\n",
        "\n",
        "# Fit the model to the training data\n",
        "regr.fit(X_train, y_train)\n",
        "\n",
        "# Make predictions on the test data\n",
        "y_pred = regr.predict(X_test)\n",
        "\n",
        "# Calculate the R-squared (R2) metric\n",
        "r2 = r2_score(y_test, y_pred)\n",
        "\n",
        "# Calculate Root Mean Squared Error (RMSE)\n",
        "rmse = sqrt(mean_squared_error(y_test, y_pred))\n",
        "\n",
        "# Print the regression results\n",
        "print(\"Cross-validation R-squared scores:\")\n",
        "for i, score in enumerate(cross_val_scores, start=1):\n",
        "    print(f'Fold {i}: {score:.2f}')\n",
        "print(f'Overall R-squared (R2): {r2}')\n",
        "print(f'Root Mean Squared Error (RMSE): {rmse}')\n"
      ]
    },
    {
      "cell_type": "markdown",
      "id": "e5562ce1",
      "metadata": {
        "id": "e5562ce1"
      },
      "source": [
        "\n",
        "### The change in the cross-validation R-squared scores and the overall R-squared (R2) value after applying Ridge regression with regularization (specifically, with an alpha value of 1.0) indicates that regularization has affected the model's performance. Here's what's happening:\n",
        "\n",
        "### Before Ridge Regression:\n",
        "\n",
        "### Cross-validation R-squared scores for individual folds were a mix of negative and positive values. Some of the folds had R-squared values well below zero, suggesting that the model was not generalizing well.\n",
        "## The overall R-squared (R2) value was 0.82, which might indicate overfitting. This value is relatively high but doesn't necessarily represent good generalization to unseen data.\n",
        "\n",
        "### After Applying Ridge Regression:\n",
        "\n",
        "### Cross-validation R-squared scores for individual folds have changed. The negative values have become less negative (e.g., from -0.20 to -0.09) and the positive values have become smaller (e.g., from 0.86 to 0.81). Ridge regression penalizes extreme coefficient values, and this regularization effect is reflected in the changes.\n",
        "\n",
        "### The overall R-squared (R2) value has decreased to 0.55, which is lower than the previous value. This is expected because regularization shrinks the coefficients, which can reduce the model's ability to fit the training data perfectly.\n",
        "### Overall, Ridge regression with an alpha of 1.0 has helped reduce the risk of overfitting by constraining the coefficients, making the model more suitable for generalization to new, unseen data. However, it comes at the cost of a lower overall R-squared value, meaning that the model may not explain as much of the variance in the target variable. The Root Mean Squared Error (RMSE) also increased, indicating a decrease in predictive accuracy.\n",
        "\n",
        "### You can adjust the alpha parameter to find a balance between model complexity and generalization to achieve the best results for your specific dataset."
      ]
    },
    {
      "cell_type": "code",
      "execution_count": null,
      "id": "99a4c927",
      "metadata": {
        "id": "99a4c927",
        "outputId": "bbacb780-3572-472c-c20e-43caff49ec73"
      },
      "outputs": [
        {
          "name": "stdout",
          "output_type": "stream",
          "text": [
            "Best alpha value: 1\n",
            "Best R-squared score: -9.41554513446518\n"
          ]
        }
      ],
      "source": [
        "from sklearn.model_selection import GridSearchCV\n",
        "\n",
        "# Define a range of alpha values to be tested\n",
        "alpha_values = [0.01, 0.1, 1, 10, 100]  # Adjust the range as needed\n",
        "\n",
        "# Create a Ridge Regression model\n",
        "regr = Ridge()\n",
        "\n",
        "# Define the grid of hyperparameters to search\n",
        "param_grid = {'alpha': alpha_values}\n",
        "\n",
        "# Perform GridSearchCV to find the best alpha value\n",
        "grid_search = GridSearchCV(regr, param_grid, cv=10, scoring='r2')\n",
        "grid_search.fit(X, y)\n",
        "\n",
        "# Get the best alpha value and its corresponding R-squared score\n",
        "best_alpha = grid_search.best_params_['alpha']\n",
        "best_score = grid_search.best_score_\n",
        "\n",
        "print(f\"Best alpha value: {best_alpha}\")\n",
        "print(f\"Best R-squared score: {best_score}\")"
      ]
    },
    {
      "cell_type": "raw",
      "id": "7db3762c",
      "metadata": {
        "id": "7db3762c"
      },
      "source": [
        "A negative R-squared score, like the value of -9.415545134465173, indicates that the model's performance is worse than a model that predicts the mean of the target variable. This suggests that the current model doesn't fit the data well and performs poorly in explaining the variance in the target variable.\n",
        "\n",
        "A few reasons for observing a negative R-squared value after hyperparameter tuning could be:\n",
        "\n",
        "Overfitting: The model might be overfitting the training data, leading to poor generalization to unseen data. This can occur when the model is too complex or when there is noise in the data that the model captures.\n",
        "\n",
        "Inadequate Features: The features might not be capturing the variation present in the target variable, resulting in a poor fit.\n",
        "\n",
        "Data Issues: There could be errors or issues in the data that are negatively impacting the model's performance.\n",
        "\n",
        "Hyperparameter Tuning: The hyperparameters chosen might not be suitable for the data, leading to a poorly performing model.\n",
        "\n",
        "To improve the model's performance:\n",
        "\n",
        "Evaluate Feature Importance: Analyze the importance of each feature and consider refining or adding new features that might better explain the target variable.\n",
        "\n",
        "Regularization and Model Complexity: Adjust the model complexity and regularization parameters to prevent overfitting. Try different alpha values or even different regression techniques.\n",
        "\n",
        "Data Quality: Check for data quality issues, outliers, or inconsistencies that might negatively impact the model's performance.\n",
        "\n",
        "Cross-Validation: Ensure the cross-validation setup is appropriate, and consider using different cross-validation strategies to get a more reliable estimate of the model's performance.\n",
        "\n",
        "It's essential to iteratively explore different model architectures, hyperparameters, and feature engineering strategies to improve the model's fit and achieve a positive R-squared score, closer to 1, indicating a better fit to the data.\n",
        "\n",
        "\n",
        "\n",
        "\n"
      ]
    },
    {
      "cell_type": "raw",
      "id": "0a856f13",
      "metadata": {
        "id": "0a856f13"
      },
      "source": [
        "The difference in R-squared values obtained through the hyperparameter tuning process (using GridSearchCV) and the manual calculation may arise due to the evaluation method and the data split used in each case.\n",
        "\n",
        "Here's a possible explanation for the discrepancy:\n",
        "\n",
        "Hyperparameter Tuning (GridSearchCV):\n",
        "\n",
        "Utilizes cross-validation internally, often using K-fold cross-validation.\n",
        "Searches for the best hyperparameter alpha within the specified range by evaluating each combination's performance on different subsets of the data.\n",
        "Returns the best hyperparameter (alpha) based on the provided scoring metric (in this case, R-squared).\n",
        "Manual Calculation using train_test_split:\n",
        "\n",
        "Splits the data into a training set and a holdout test set.\n",
        "Fits the model on the training set and evaluates its performance on the separate test set.\n",
        "Calculates R-squared and RMSE based on this specific test set.\n",
        "The difference in the R-squared values might be due to how GridSearchCV uses cross-validation for evaluating model performance across multiple folds of the data compared to the single split into train and test sets using train_test_split.\n",
        "\n",
        "A lower R-squared value obtained from the train_test_split method might indicate that the model's performance on the specific test set is comparatively lower than the average performance across different cross-validated subsets used in GridSearchCV.\n",
        "To ensure consistency and better comparison:\n",
        "\n",
        "Use the entire dataset for cross-validation within the GridSearchCV process.\n",
        "Evaluate the model's performance on a separate holdout test set after hyperparameter tuning."
      ]
    },
    {
      "cell_type": "code",
      "execution_count": null,
      "id": "e9a3f922",
      "metadata": {
        "id": "e9a3f922",
        "outputId": "dddda63d-6add-4a92-9cd7-a8cf7ec375b2"
      },
      "outputs": [
        {
          "name": "stdout",
          "output_type": "stream",
          "text": [
            "Selected Feature Indices: [0 2 4]\n",
            "Mask of Selected Features: [ True False  True False  True]\n"
          ]
        }
      ],
      "source": [
        "from sklearn.feature_selection import SelectFromModel\n",
        "from sklearn.linear_model import Ridge\n",
        "\n",
        "# Create a Ridge regression model\n",
        "ridge = Ridge(alpha=1.0)\n",
        "ridge.fit(X, y)\n",
        "# Select features based on the Ridge regression model\n",
        "selector = SelectFromModel(ridge, threshold='median')  # Use median threshold for feature selection\n",
        "selector.fit(X, y)\n",
        "\n",
        "# Get the selected feature indices\n",
        "selected_feature_indices = selector.get_support(indices=True)\n",
        "\n",
        "# Print the selected feature indices and the mask of selected features\n",
        "print(\"Selected Feature Indices:\", selected_feature_indices)\n",
        "print(\"Mask of Selected Features:\", selector.get_support())\n",
        "\n",
        "# Transform the original dataset to select only the important features\n",
        "X_selected = selector.transform(X)"
      ]
    },
    {
      "cell_type": "code",
      "execution_count": null,
      "id": "82b39dc6",
      "metadata": {
        "id": "82b39dc6",
        "outputId": "e22435d7-ad65-4995-f940-88344f8ce4dc"
      },
      "outputs": [
        {
          "name": "stdout",
          "output_type": "stream",
          "text": [
            "Cross-validation R-squared scores:\n",
            "Fold 1: -7.30\n",
            "Fold 2: -0.04\n",
            "Fold 3: -1.77\n",
            "Fold 4: -2.39\n",
            "Fold 5: 0.50\n",
            "Fold 6: -9.34\n",
            "Fold 7: -0.34\n",
            "Fold 8: -0.64\n",
            "Fold 9: -1.09\n",
            "Fold 10: -172.95\n",
            "Overall R-squared (R2): -0.7323298290428673\n",
            "Root Mean Squared Error (RMSE): 11081.648648550796\n"
          ]
        }
      ],
      "source": [
        "import pandas as pd\n",
        "from sklearn.model_selection import train_test_split, cross_val_score\n",
        "from sklearn.linear_model import Ridge\n",
        "from sklearn.metrics import r2_score, mean_squared_error\n",
        "from math import sqrt\n",
        "\n",
        "# Load your dataset into a DataFrame\n",
        "# Replace 'your_dataset.csv' with the actual dataset file path\n",
        "# Load the dataset\n",
        "df = pd.read_csv('CarDetails1.csv')\n",
        "\n",
        "# Define your feature matrix (X) and target variable (y)\n",
        "X = df[['Age', 'Engine Size (in liters)', 'Number of Owners']]\n",
        "y = df['Selling Price']\n",
        "\n",
        "# Split the dataset into a training set and a testing set\n",
        "X_train, X_test, y_train, y_test = train_test_split(X, y, test_size=0.2, random_state=42)\n",
        "\n",
        "# Create a Ridge Regression model with regularization strength (alpha)\n",
        "alpha = 1.0  # You can adjust the alpha value\n",
        "regr = Ridge(alpha=alpha)\n",
        "\n",
        "# Perform 10-fold cross-validation and get the R-squared scores\n",
        "cross_val_scores = cross_val_score(regr, X, y, cv=10, scoring='r2')\n",
        "\n",
        "# Fit the model to the training data\n",
        "regr.fit(X_train, y_train)\n",
        "\n",
        "# Make predictions on the test data\n",
        "y_pred = regr.predict(X_test)\n",
        "\n",
        "# Calculate the R-squared (R2) metric\n",
        "r2 = r2_score(y_test, y_pred)\n",
        "\n",
        "# Calculate Root Mean Squared Error (RMSE)\n",
        "rmse = sqrt(mean_squared_error(y_test, y_pred))\n",
        "\n",
        "# Print the regression results\n",
        "print(\"Cross-validation R-squared scores:\")\n",
        "for i, score in enumerate(cross_val_scores, start=1):\n",
        "    print(f'Fold {i}: {score:.2f}')\n",
        "print(f'Overall R-squared (R2): {r2}')\n",
        "print(f'Root Mean Squared Error (RMSE): {rmse}')"
      ]
    },
    {
      "cell_type": "code",
      "execution_count": null,
      "id": "68f4e133",
      "metadata": {
        "id": "68f4e133",
        "outputId": "75862ea5-f020-4118-d070-78ee9037d921"
      },
      "outputs": [
        {
          "name": "stdout",
          "output_type": "stream",
          "text": [
            "Ridge Regression Results:\n",
            "Cross-validation R-squared scores:\n",
            "Fold 1: -0.20\n",
            "Fold 2: -0.09\n",
            "Fold 3: -0.02\n",
            "Fold 4: 0.81\n",
            "Fold 5: 0.45\n",
            "Fold 6: -1.60\n",
            "Fold 7: 0.98\n",
            "Fold 8: 0.53\n",
            "Fold 9: -2.04\n",
            "Fold 10: -92.97\n",
            "Overall R-squared (R2) for Ridge: 0.5517111819493181\n",
            "Root Mean Squared Error (RMSE) for Ridge: 5637.259636820546\n",
            "\n",
            "Lasso Regression Results:\n",
            "Cross-validation R-squared scores:\n",
            "Fold 1: -0.20\n",
            "Fold 2: -0.05\n",
            "Fold 3: -0.25\n",
            "Fold 4: 0.85\n",
            "Fold 5: 0.37\n",
            "Fold 6: -1.50\n",
            "Fold 7: 0.97\n",
            "Fold 8: 0.51\n",
            "Fold 9: -2.08\n",
            "Fold 10: -93.58\n",
            "Overall R-squared (R2) for Lasso: 0.45494915468869745\n",
            "Root Mean Squared Error (RMSE) for Lasso: 6215.951159079991\n"
          ]
        },
        {
          "name": "stderr",
          "output_type": "stream",
          "text": [
            "C:\\Users\\monika201103\\Anaconda3\\lib\\site-packages\\sklearn\\linear_model\\_coordinate_descent.py:628: ConvergenceWarning: Objective did not converge. You might want to increase the number of iterations, check the scale of the features or consider increasing regularisation. Duality gap: 2.869e+06, tolerance: 8.347e+04\n",
            "  model = cd_fast.enet_coordinate_descent(\n",
            "C:\\Users\\monika201103\\Anaconda3\\lib\\site-packages\\sklearn\\linear_model\\_coordinate_descent.py:628: ConvergenceWarning: Objective did not converge. You might want to increase the number of iterations, check the scale of the features or consider increasing regularisation. Duality gap: 3.745e+05, tolerance: 4.032e+04\n",
            "  model = cd_fast.enet_coordinate_descent(\n"
          ]
        }
      ],
      "source": [
        "import pandas as pd\n",
        "from sklearn.model_selection import train_test_split, cross_val_score\n",
        "from sklearn.linear_model import Ridge, Lasso\n",
        "from sklearn.metrics import r2_score, mean_squared_error\n",
        "from math import sqrt\n",
        "\n",
        "# Load your dataset into a DataFrame\n",
        "# Replace 'your_dataset.csv' with the actual dataset file path\n",
        "# Load the dataset\n",
        "df = pd.read_csv('CarDetails1.csv')\n",
        "\n",
        "# Define your feature matrix (X) and target variable (y)\n",
        "X = df[['Age', 'Mileage', 'Engine Size (in liters)', 'Horsepower', 'Number of Owners']]\n",
        "y = df['Selling Price']\n",
        "\n",
        "# Split the dataset into a training set and a testing set\n",
        "X_train, X_test, y_train, y_test = train_test_split(X, y, test_size=0.2, random_state=42)\n",
        "\n",
        "# Create a Ridge Regression model with regularization strength (alpha)\n",
        "ridge_alpha = 1.0  # You can adjust the alpha value for Ridge\n",
        "ridge_regr = Ridge(alpha=ridge_alpha)\n",
        "\n",
        "# Create a Lasso Regression model with regularization strength (alpha)\n",
        "lasso_alpha = 1.0  # You can adjust the alpha value for Lasso\n",
        "lasso_regr = Lasso(alpha=lasso_alpha)\n",
        "\n",
        "# Perform 10-fold cross-validation and get the R-squared scores for Ridge\n",
        "ridge_cross_val_scores = cross_val_score(ridge_regr, X, y, cv=10, scoring='r2')\n",
        "\n",
        "# Perform 10-fold cross-validation and get the R-squared scores for Lasso\n",
        "lasso_cross_val_scores = cross_val_score(lasso_regr, X, y, cv=10, scoring='r2')\n",
        "\n",
        "# Fit the Ridge model to the training data\n",
        "ridge_regr.fit(X_train, y_train)\n",
        "\n",
        "# Fit the Lasso model to the training data\n",
        "lasso_regr.fit(X_train, y_train)\n",
        "\n",
        "# Make predictions on the test data for Ridge\n",
        "ridge_y_pred = ridge_regr.predict(X_test)\n",
        "\n",
        "# Make predictions on the test data for Lasso\n",
        "lasso_y_pred = lasso_regr.predict(X_test)\n",
        "\n",
        "# Calculate the R-squared (R2) metric for Ridge\n",
        "ridge_r2 = r2_score(y_test, ridge_y_pred)\n",
        "\n",
        "# Calculate the R-squared (R2) metric for Lasso\n",
        "lasso_r2 = r2_score(y_test, lasso_y_pred)\n",
        "\n",
        "# Calculate Root Mean Squared Error (RMSE) for Ridge\n",
        "ridge_rmse = sqrt(mean_squared_error(y_test, ridge_y_pred))\n",
        "\n",
        "# Calculate Root Mean Squared Error (RMSE) for Lasso\n",
        "lasso_rmse = sqrt(mean_squared_error(y_test, lasso_y_pred))\n",
        "\n",
        "# Print the regression results for Ridge\n",
        "print(\"Ridge Regression Results:\")\n",
        "print(\"Cross-validation R-squared scores:\")\n",
        "for i, score in enumerate(ridge_cross_val_scores, start=1):\n",
        "    print(f'Fold {i}: {score:.2f}')\n",
        "print(f'Overall R-squared (R2) for Ridge: {ridge_r2}')\n",
        "print(f'Root Mean Squared Error (RMSE) for Ridge: {ridge_rmse}')\n",
        "\n",
        "# Print the regression results for Lasso\n",
        "print(\"\\nLasso Regression Results:\")\n",
        "print(\"Cross-validation R-squared scores:\")\n",
        "for i, score in enumerate(lasso_cross_val_scores, start=1):\n",
        "    print(f'Fold {i}: {score:.2f}')\n",
        "print(f'Overall R-squared (R2) for Lasso: {lasso_r2}')\n",
        "print(f'Root Mean Squared Error (RMSE) for Lasso: {lasso_rmse}')\n"
      ]
    },
    {
      "cell_type": "markdown",
      "id": "2c84f24b",
      "metadata": {
        "id": "2c84f24b"
      },
      "source": [
        "The enumerate() function is used to iterate through the elements of the ridge_cross_val_scores list while also keeping track of their index or position in the list. The enumerate() function is particularly useful in scenarios where you want to display the index along with the corresponding values during iteration. Here's a breakdown of this line:\n",
        "\n",
        "ridge_cross_val_scores: This is a list or iterable that you want to iterate through. In your case, it contains the cross-validation scores.\n",
        "\n",
        "start=1: This argument specifies the starting index for enumeration. By setting start=1, you're indicating that you want the enumeration to start at 1, rather than the default value of 0.\n",
        "\n",
        "i: This variable represents the index or position of the current element in the ridge_cross_val_scores list.\n",
        "\n",
        "score: This variable represents the value of the current element in the ridge_cross_val_scores list.\n",
        "\n",
        "So, during each iteration of the loop, i will hold the index of the current score, and score will hold the value of that score. This can be helpful when you want to display the scores alongside their respective fold numbers or for any other purpose that requires knowing the position of the scores within the list.\n"
      ]
    },
    {
      "cell_type": "markdown",
      "id": "940900fe",
      "metadata": {
        "id": "940900fe"
      },
      "source": [
        "## Logistic Regression"
      ]
    },
    {
      "cell_type": "markdown",
      "id": "caa5131d",
      "metadata": {
        "id": "caa5131d"
      },
      "source": [
        "### Logistic regression is a supervised machine learning algorithm mainly used for classification tasks where the goal is to predict the probability that an instance of belonging to a given class. It is used for classification algorithms its name is logistic regression.\n",
        "\n",
        "### It’s referred to as regression because it takes the output of the linear regression function as input and uses a sigmoid function to estimate the probability for the given class.\n",
        "### The difference between linear regression and logistic regression is that linear regression output is the continuous value that can be anything while logistic regression predicts the probability that an instance belongs to a given class or not.\n",
        "\n",
        "### Logistic Regression:\n",
        "\n",
        "#### It is used for predicting the categorical dependent variable using a given set of independent variables.\n",
        "\n",
        "![image.png](attachment:image.png)"
      ]
    },
    {
      "cell_type": "markdown",
      "id": "a7458138",
      "metadata": {
        "id": "a7458138"
      },
      "source": [
        "# Logistic Function (Sigmoid Function):\n",
        "\n",
        "#### The sigmoid function is a mathematical function used to map the predicted values to probabilities.\n",
        "#### It maps any real value into another value within a range of 0 and 1. o The value of the logistic regression must be between 0 and 1, which cannot go beyond this limit, so it forms a curve like the “S” form.\n",
        "#### The S-form curve is called the Sigmoid function or the logistic function.\n",
        "#### In logistic regression, we use the concept of the threshold value, which defines the probability of either 0 or 1. Such as values above the threshold value tends to 1, and a value below the threshold values tends to 0."
      ]
    },
    {
      "cell_type": "markdown",
      "id": "a486e336",
      "metadata": {
        "id": "a486e336"
      },
      "source": [
        "![Screenshot%202023-10-29%20203714.png](attachment:Screenshot%202023-10-29%20203714.png)"
      ]
    },
    {
      "cell_type": "markdown",
      "id": "fb24c69d",
      "metadata": {
        "id": "fb24c69d"
      },
      "source": [
        "![Screenshot%202023-10-29%20203742.png](attachment:Screenshot%202023-10-29%20203742.png)"
      ]
    },
    {
      "cell_type": "markdown",
      "id": "b1425604",
      "metadata": {
        "id": "b1425604"
      },
      "source": [
        "![Screenshot%202023-10-29%20203759.png](attachment:Screenshot%202023-10-29%20203759.png)"
      ]
    },
    {
      "cell_type": "markdown",
      "id": "9ef23794",
      "metadata": {
        "id": "9ef23794"
      },
      "source": [
        "![Screenshot%202023-10-29%20203836.png](attachment:Screenshot%202023-10-29%20203836.png)"
      ]
    },
    {
      "cell_type": "markdown",
      "id": "83f36371",
      "metadata": {
        "id": "83f36371"
      },
      "source": [
        "![Screenshot%202023-10-29%20203939.png](attachment:Screenshot%202023-10-29%20203939.png)"
      ]
    },
    {
      "cell_type": "markdown",
      "id": "9c61d1e7",
      "metadata": {
        "id": "9c61d1e7"
      },
      "source": [
        "![Screenshot%202023-10-29%20203949.png](attachment:Screenshot%202023-10-29%20203949.png)"
      ]
    },
    {
      "cell_type": "markdown",
      "id": "83146cfb",
      "metadata": {
        "id": "83146cfb"
      },
      "source": [
        "![Screenshot%202023-10-29%20204005.png](attachment:Screenshot%202023-10-29%20204005.png)"
      ]
    },
    {
      "cell_type": "markdown",
      "id": "593e11d6",
      "metadata": {
        "id": "593e11d6"
      },
      "source": [
        "![Screenshot%202023-10-29%20204020.png](attachment:Screenshot%202023-10-29%20204020.png)"
      ]
    },
    {
      "cell_type": "markdown",
      "id": "3e8f8d3c",
      "metadata": {
        "id": "3e8f8d3c"
      },
      "source": [
        "#### Terminologies involved in Logistic Regression:\n",
        "\n",
        "#### Here are some common terms involved in logistic regression:\n",
        "\n",
        "#### Independent variables: The input characteristics or predictor factors applied to the dependent variable’s predictions.\n",
        "\n",
        "#### Dependent variable: The target variable in a logistic regression model, which we are trying to predict.\n",
        "\n",
        "#### Logistic function: The formula used to represent how the independent and dependent variables relate to one another. The logistic function transforms the input variables into a probability value between 0 and 1, which represents the likelihood of the dependent variable being 1 or 0.\n",
        "\n",
        "#### Odds: The odds represent the ratio of the probability of something occurring to the probability of it not occurring. In other words, it's the likelihood of success (or an event happening) relative to the likelihood of failure (or an event not happening). Mathematically, odds are calculated as:\n",
        "\n",
        "#### Odds = P(Event Occurs) / P(Event Does Not Occur)\n",
        "\n",
        "#### For example, if you're flipping a fair coin, the odds of getting heads are 1 (it occurs) to 1 (it does not occur).\n",
        "\n",
        "#### Log-odds: In logistic regression, the logit function, also known as the log-odds function, is a key component of the model. It is used to model the relationship between the independent variables (features) and the probability of a binary outcome (e.g., 1 for \"success\" or 0 for \"failure\"). The logit function transforms the linear combination of the features and model coefficients into a range between negative infinity and positive infinity.\n",
        "\n",
        "### Odds:\n",
        "\n",
        "#### Odds represent the ratio of the probability of an event occurring to the probability of it not occurring.\n",
        "#### Mathematically, odds are calculated as: Odds = P(Event Occurs) / P(Event Does Not Occur).\n",
        "#### Odds can take values from 0 to positive infinity.\n",
        "\n",
        "### Log Odds (Logit):\n",
        "#### Log odds, also known as the logit function, is the natural logarithm of the odds.\n",
        "#### Mathematically, log odds are calculated as: Log Odds = ln(Odds), where \"ln\" denotes the natural logarithm.\n",
        "#### Log odds can take values from negative infinity to positive infinity.\n",
        "\n",
        "#### Coefficient: The logistic regression model’s estimated parameters, show how the independent and dependent variables relate to one another.\n",
        "\n",
        "#### Intercept: A constant term in the logistic regression model, which represents the log odds when all independent variables are equal to zero.\n",
        "\n",
        "#### Maximum likelihood estimation: The method used to estimate the coefficients of the logistic regression model, which maximizes the likelihood of observing the data given the model."
      ]
    },
    {
      "cell_type": "markdown",
      "id": "821c3a74",
      "metadata": {
        "id": "821c3a74"
      },
      "source": [
        "### Performance Metrics in Machine Learning\n",
        "\n",
        "Evaluating the performance of a Machine learning model is one of the important steps while building an effective ML model. To evaluate the performance or quality of the model, different metrics are used, and these metrics are known as performance metrics or evaluation metrics. These performance metrics help us understand how well our model has performed for the given data. In this way, we can improve the model's performance by tuning the hyper-parameters. Each ML model aims to generalize well on unseen/new data, and performance metrics help determine how well the model generalizes on the new dataset.\n",
        "\n",
        "![image.png](attachment:image.png)\n",
        "\n",
        "In machine learning, each task or problem is divided into classification and Regression. Not all metrics can be used for all types of problems; hence, it is important to know and understand which metrics should be used. Different evaluation metrics are used for both Regression and Classification tasks. In this topic, we will discuss metrics used for classification and regression tasks."
      ]
    },
    {
      "cell_type": "markdown",
      "id": "097bb37a",
      "metadata": {
        "id": "097bb37a"
      },
      "source": [
        "### 1. Performance Metrics for Classification\n",
        "\n",
        "In a classification problem, the category or classes of data is identified based on training data. The model learns from the given dataset and then classifies the new data into classes or groups based on the training. It predicts class labels as the output, such as Yes or No, 0 or 1, Spam or Not Spam, etc. To evaluate the performance of a classification model, different metrics are used, and some of them are as follows:\n",
        "\n",
        "1. Accuracy\n",
        "\n",
        "2. Confusion Matrix\n",
        "\n",
        "3. Precision\n",
        "\n",
        "4. Recall\n",
        "\n",
        "5. F-Score\n",
        "\n",
        "6. AUC(Area Under the Curve)-ROC\n",
        "\n",
        "\n",
        "### 2. Performance Metrics for Regression\n",
        "\n",
        "Regression is a supervised learning technique that aims to find the relationships between the dependent and independent variables. A predictive regression model predicts a numeric or discrete value. The metrics used for regression are different from the classification metrics. It means we cannot use the Accuracy metric (explained above) to evaluate a regression model; instead, the performance of a Regression model is reported as errors in the prediction. Following are the popular metrics that are used to evaluate the performance of Regression models.\n",
        "\n",
        "1. Mean Absolute Error\n",
        "\n",
        "2. Mean Squared Error\n",
        "\n",
        "3. R2 Score\n",
        "\n",
        "4. Adjusted R2"
      ]
    },
    {
      "cell_type": "markdown",
      "id": "3925c8f5",
      "metadata": {
        "id": "3925c8f5"
      },
      "source": [
        "![image.png](attachment:image.png)"
      ]
    },
    {
      "cell_type": "markdown",
      "id": "93950929",
      "metadata": {
        "id": "93950929"
      },
      "source": [
        "![image.png](attachment:image.png)"
      ]
    },
    {
      "cell_type": "markdown",
      "id": "4ae0480b",
      "metadata": {
        "id": "4ae0480b"
      },
      "source": [
        "#### AUROC (Area Under the Receiver Operating Characteristic Curve) is a metric used to evaluate the performance of a binary classification model. It measures the model's ability to distinguish between the positive and negative classes across various threshold settings.\n",
        "\n",
        "#### In the context of AUROC, different thresholds refer to the different probability thresholds used to classify instances into the positive or negative class. When a model predicts probabilities (instead of direct class labels), a threshold is needed to decide which class a given instance belongs to based on its predicted probability.\n",
        "\n",
        "#### AUROC is calculated by plotting the True Positive Rate (TPR) against the False Positive Rate (FPR) at various threshold settings. Each point on the ROC curve represents a different threshold, and the AUROC summarizes the curve's area, ranging from 0 to 1.\n",
        "\n",
        "#### Threshold:\n",
        "\n",
        "A threshold is a value used to convert predicted probabilities into class labels.\n",
        "\n",
        "For example, if the model predicts a probability of 0.7 for an email being spam, a threshold of 0.5 might be chosen, indicating that any predicted probability greater than 0.5 will be classified as spam.\n",
        "\n",
        "Altering the threshold affects the balance between False Positives (non-spam emails classified as spam) and False Negatives (spam emails classified as non-spam).\n",
        "\n",
        "#### Cutoff Value:\n",
        "\n",
        "The cutoff value is synonymous with the threshold in the context of classification. It's the value that separates one class from another.\n",
        "\n",
        "For instance, in logistic regression, if the output probability is above the cutoff value, it's predicted as the positive class; otherwise, it's predicted as the negative class.\n",
        "\n",
        "#### Example:\n",
        "\n",
        "Let's assume a logistic regression model predicts probabilities for spam emails. Consider the following:\n",
        "\n",
        "Predicted probability for Email A (spam) = 0.8\n",
        "\n",
        "Predicted probability for Email B (not spam) = 0.3\n",
        "\n",
        "If the chosen threshold is 0.5:\n",
        "\n",
        "Email A (0.8 > 0.5) will be classified as spam.\n",
        "Email B (0.3 < 0.5) will be classified as not spam.\n",
        "\n",
        "\n",
        "#### If the threshold is changed to 0.3:\n",
        "\n",
        "Email A (0.8 > 0.3) will still be classified as spam.\n",
        "\n",
        "Email B (0.3 = 0.3) will now be classified as spam."
      ]
    },
    {
      "cell_type": "code",
      "execution_count": null,
      "id": "1cb0ddfc",
      "metadata": {
        "id": "1cb0ddfc"
      },
      "outputs": [],
      "source": [
        "import numpy\n",
        "#X represents the size of a tumor in centimeters.\n",
        "X = numpy.array([3.78, 2.44, 2.09, 0.14, 1.72, 1.65, 4.92, 4.37, 4.96, 4.52, 3.69, 5.88]).reshape(-1,1)\n",
        "\n",
        "#Note: X has to be reshaped into a column from a row for the LogisticRegression() function to work.\n",
        "#y represents whether or not the tumor is cancerous (0 for \"No\", 1 for \"Yes\").\n",
        "y = numpy.array([0, 0, 0, 0, 0, 0, 1, 1, 1, 1, 1, 1])"
      ]
    },
    {
      "cell_type": "markdown",
      "id": "aa5a7a3b",
      "metadata": {
        "id": "aa5a7a3b"
      },
      "source": [
        "X = numpy.array([...]): This line creates a 1D NumPy array X to store the tumor sizes.\n",
        "\n",
        ".reshape(-1, 1): This operation is used to reshape the X array.\n",
        "\n",
        "The -1 argument is a placeholder that allows NumPy to automatically determine the number of rows needed based on the data.\n",
        "\n",
        "The 1 argument specifies that you want one column. As a result, X is reshaped from a 1D array to a 2D array with a single column, effectively converting it into a column vector."
      ]
    },
    {
      "cell_type": "code",
      "execution_count": null,
      "id": "2dfab873",
      "metadata": {
        "id": "2dfab873",
        "outputId": "07993301-4318-4c1b-d39e-7f92e1a1c356"
      },
      "outputs": [
        {
          "data": {
            "text/html": [
              "<style>#sk-container-id-2 {color: black;background-color: white;}#sk-container-id-2 pre{padding: 0;}#sk-container-id-2 div.sk-toggleable {background-color: white;}#sk-container-id-2 label.sk-toggleable__label {cursor: pointer;display: block;width: 100%;margin-bottom: 0;padding: 0.3em;box-sizing: border-box;text-align: center;}#sk-container-id-2 label.sk-toggleable__label-arrow:before {content: \"▸\";float: left;margin-right: 0.25em;color: #696969;}#sk-container-id-2 label.sk-toggleable__label-arrow:hover:before {color: black;}#sk-container-id-2 div.sk-estimator:hover label.sk-toggleable__label-arrow:before {color: black;}#sk-container-id-2 div.sk-toggleable__content {max-height: 0;max-width: 0;overflow: hidden;text-align: left;background-color: #f0f8ff;}#sk-container-id-2 div.sk-toggleable__content pre {margin: 0.2em;color: black;border-radius: 0.25em;background-color: #f0f8ff;}#sk-container-id-2 input.sk-toggleable__control:checked~div.sk-toggleable__content {max-height: 200px;max-width: 100%;overflow: auto;}#sk-container-id-2 input.sk-toggleable__control:checked~label.sk-toggleable__label-arrow:before {content: \"▾\";}#sk-container-id-2 div.sk-estimator input.sk-toggleable__control:checked~label.sk-toggleable__label {background-color: #d4ebff;}#sk-container-id-2 div.sk-label input.sk-toggleable__control:checked~label.sk-toggleable__label {background-color: #d4ebff;}#sk-container-id-2 input.sk-hidden--visually {border: 0;clip: rect(1px 1px 1px 1px);clip: rect(1px, 1px, 1px, 1px);height: 1px;margin: -1px;overflow: hidden;padding: 0;position: absolute;width: 1px;}#sk-container-id-2 div.sk-estimator {font-family: monospace;background-color: #f0f8ff;border: 1px dotted black;border-radius: 0.25em;box-sizing: border-box;margin-bottom: 0.5em;}#sk-container-id-2 div.sk-estimator:hover {background-color: #d4ebff;}#sk-container-id-2 div.sk-parallel-item::after {content: \"\";width: 100%;border-bottom: 1px solid gray;flex-grow: 1;}#sk-container-id-2 div.sk-label:hover label.sk-toggleable__label {background-color: #d4ebff;}#sk-container-id-2 div.sk-serial::before {content: \"\";position: absolute;border-left: 1px solid gray;box-sizing: border-box;top: 0;bottom: 0;left: 50%;z-index: 0;}#sk-container-id-2 div.sk-serial {display: flex;flex-direction: column;align-items: center;background-color: white;padding-right: 0.2em;padding-left: 0.2em;position: relative;}#sk-container-id-2 div.sk-item {position: relative;z-index: 1;}#sk-container-id-2 div.sk-parallel {display: flex;align-items: stretch;justify-content: center;background-color: white;position: relative;}#sk-container-id-2 div.sk-item::before, #sk-container-id-2 div.sk-parallel-item::before {content: \"\";position: absolute;border-left: 1px solid gray;box-sizing: border-box;top: 0;bottom: 0;left: 50%;z-index: -1;}#sk-container-id-2 div.sk-parallel-item {display: flex;flex-direction: column;z-index: 1;position: relative;background-color: white;}#sk-container-id-2 div.sk-parallel-item:first-child::after {align-self: flex-end;width: 50%;}#sk-container-id-2 div.sk-parallel-item:last-child::after {align-self: flex-start;width: 50%;}#sk-container-id-2 div.sk-parallel-item:only-child::after {width: 0;}#sk-container-id-2 div.sk-dashed-wrapped {border: 1px dashed gray;margin: 0 0.4em 0.5em 0.4em;box-sizing: border-box;padding-bottom: 0.4em;background-color: white;}#sk-container-id-2 div.sk-label label {font-family: monospace;font-weight: bold;display: inline-block;line-height: 1.2em;}#sk-container-id-2 div.sk-label-container {text-align: center;}#sk-container-id-2 div.sk-container {/* jupyter's `normalize.less` sets `[hidden] { display: none; }` but bootstrap.min.css set `[hidden] { display: none !important; }` so we also need the `!important` here to be able to override the default hidden behavior on the sphinx rendered scikit-learn.org. See: https://github.com/scikit-learn/scikit-learn/issues/21755 */display: inline-block !important;position: relative;}#sk-container-id-2 div.sk-text-repr-fallback {display: none;}</style><div id=\"sk-container-id-2\" class=\"sk-top-container\"><div class=\"sk-text-repr-fallback\"><pre>LogisticRegression()</pre><b>In a Jupyter environment, please rerun this cell to show the HTML representation or trust the notebook. <br />On GitHub, the HTML representation is unable to render, please try loading this page with nbviewer.org.</b></div><div class=\"sk-container\" hidden><div class=\"sk-item\"><div class=\"sk-estimator sk-toggleable\"><input class=\"sk-toggleable__control sk-hidden--visually\" id=\"sk-estimator-id-2\" type=\"checkbox\" checked><label for=\"sk-estimator-id-2\" class=\"sk-toggleable__label sk-toggleable__label-arrow\">LogisticRegression</label><div class=\"sk-toggleable__content\"><pre>LogisticRegression()</pre></div></div></div></div></div>"
            ],
            "text/plain": [
              "LogisticRegression()"
            ]
          },
          "execution_count": 40,
          "metadata": {},
          "output_type": "execute_result"
        }
      ],
      "source": [
        "from sklearn import linear_model\n",
        "logr = linear_model.LogisticRegression()\n",
        "logr.fit(X,y)"
      ]
    },
    {
      "cell_type": "code",
      "execution_count": null,
      "id": "808ffdd9",
      "metadata": {
        "id": "808ffdd9",
        "outputId": "e966b91a-bf5e-4743-898d-c1849b573d7c"
      },
      "outputs": [
        {
          "name": "stdout",
          "output_type": "stream",
          "text": [
            "[0]\n"
          ]
        }
      ],
      "source": [
        "#predict if tumor is cancerous where the size is 3.46mm:\n",
        "predicted = logr.predict(numpy.array([3.46]).reshape(-1,1))\n",
        "print(predicted)"
      ]
    },
    {
      "cell_type": "code",
      "execution_count": null,
      "id": "b6110863",
      "metadata": {
        "id": "b6110863",
        "outputId": "51a17063-561c-4d7b-c28b-6202cef679b8"
      },
      "outputs": [
        {
          "name": "stdout",
          "output_type": "stream",
          "text": [
            "[[4.03541657]]\n"
          ]
        }
      ],
      "source": [
        "## Coefficient\n",
        "## In logistic regression the coefficient is the expected change in log-odds of having the outcome per unit change in X.\n",
        "\n",
        "## This does not have the most intuitive understanding so let's use it to create something that makes more sense, odds.\n",
        "\n",
        "import numpy\n",
        "from sklearn import linear_model\n",
        "\n",
        "#Reshaped for Logistic function.\n",
        "X = numpy.array([3.78, 2.44, 2.09, 0.14, 1.72, 1.65, 4.92, 4.37, 4.96, 4.52, 3.69, 5.88]).reshape(-1,1)\n",
        "y = numpy.array([0, 0, 0, 0, 0, 0, 1, 1, 1, 1, 1, 1])\n",
        "\n",
        "logr = linear_model.LogisticRegression()\n",
        "logr.fit(X,y)\n",
        "\n",
        "log_odds = logr.coef_\n",
        "odds = numpy.exp(log_odds)\n",
        "\n",
        "print(odds)"
      ]
    },
    {
      "cell_type": "markdown",
      "id": "18df2b38",
      "metadata": {
        "id": "18df2b38"
      },
      "source": [
        "### This tells us that as the size of a tumor increases by 1mm the odds of it being a cancerous tumor increases by 4x."
      ]
    },
    {
      "cell_type": "markdown",
      "id": "8094b717",
      "metadata": {
        "id": "8094b717"
      },
      "source": [
        "## Probability\n",
        "\n",
        "#### The coefficient and intercept values can be used to find the probability that each tumor is cancerous.\n",
        "\n",
        "#### Create a function that uses the model's coefficient and intercept values to return a new value. This new value represents probability that the given observation is a tumor:"
      ]
    },
    {
      "cell_type": "markdown",
      "id": "2e5373f1",
      "metadata": {
        "id": "2e5373f1"
      },
      "source": [
        "#### Function Explained\n",
        "\n",
        "#### To find the log-odds for each observation, we must first create a formula that looks similar to the one from linear regression, extracting the coefficient and the intercept.\n",
        "\n",
        "log_odds = logr.coef_ * x + logr.intercept_\n",
        "\n",
        "#### To then convert the log-odds to odds we must exponentiate the log-odds.\n",
        "\n",
        "odds = numpy.exp(log_odds)\n",
        "\n",
        "#### Now that we have the odds, we can convert it to probability by dividing it by 1 plus the odds.\n",
        "\n",
        "probability = odds / (1 + odds)\n",
        "\n",
        "Let us now use the function with what we have learned to find out the probability that each tumor is cancerous."
      ]
    },
    {
      "cell_type": "code",
      "execution_count": null,
      "id": "4c4d4010",
      "metadata": {
        "id": "4c4d4010",
        "outputId": "8f2c76a5-a8e8-467c-f882-c12107a833f6"
      },
      "outputs": [
        {
          "name": "stdout",
          "output_type": "stream",
          "text": [
            "[[0.60749955]\n",
            " [0.19268876]\n",
            " [0.12775886]\n",
            " [0.00955221]\n",
            " [0.08038616]\n",
            " [0.07345637]\n",
            " [0.88362743]\n",
            " [0.77901378]\n",
            " [0.88924409]\n",
            " [0.81293497]\n",
            " [0.57719129]\n",
            " [0.96664243]]\n"
          ]
        }
      ],
      "source": [
        "import numpy\n",
        "from sklearn import linear_model\n",
        "\n",
        "X = numpy.array([3.78, 2.44, 2.09, 0.14, 1.72, 1.65, 4.92, 4.37, 4.96, 4.52, 3.69, 5.88]).reshape(-1,1)\n",
        "y = numpy.array([0, 0, 0, 0, 0, 0, 1, 1, 1, 1, 1, 1])\n",
        "\n",
        "logr = linear_model.LogisticRegression()\n",
        "logr.fit(X,y)\n",
        "\n",
        "def logit2prob(logr, X):\n",
        "  log_odds = logr.coef_ * X + logr.intercept_\n",
        "  odds = numpy.exp(log_odds)\n",
        "  probability = odds / (1 + odds)\n",
        "  return(probability)\n",
        "\n",
        "print(logit2prob(logr, X))"
      ]
    },
    {
      "cell_type": "code",
      "execution_count": null,
      "id": "db94c482",
      "metadata": {
        "id": "db94c482"
      },
      "outputs": [],
      "source": [
        "#Logistics Regression 2nd Example\n",
        "# Import necessary libraries\n",
        "import numpy as np\n",
        "import pandas as pd\n",
        "from sklearn.model_selection import train_test_split\n",
        "from sklearn.linear_model import LogisticRegression\n",
        "from sklearn.metrics import accuracy_score, confusion_matrix, precision_score, recall_score, f1_score\n",
        "import matplotlib.pyplot as plt\n",
        "import seaborn as sns\n"
      ]
    },
    {
      "cell_type": "code",
      "execution_count": null,
      "id": "2aa65a1c",
      "metadata": {
        "id": "2aa65a1c"
      },
      "outputs": [],
      "source": [
        "\n",
        "# Create a DataFrame from the provided dataset\n",
        "data = pd.DataFrame({\n",
        "    'Exam1': [34.62, 30.28, 35.85, 60.2, 79.03, 89.03, 50.03, 29.03, 45.03, 69.03, 65.03, 90.03, 78.03, 39.03, 52.03, 32.03, 49.03, 19.03, 78.03, 69.03, 80.33, 70.63, 80.93, 81.23, 91.53, 83.83, 65.13, 78.43, 52.73, 47.03, 31.33, 15.63, 34.45, 44.45, 54.45, 68.45, 34.45],\n",
        "    'Exam2': [78.02, 43.89, 72.9, 86.3, 75.34, 75.34, 30.34, 55.34, 35.9, 25.23, 75.5, 65.5, 75.5, 75.5, 44.34, 64.34, 75.34, 67.34, 86.34, 75.34, 33.64, 66.94, 90.24, 93.54, 96.84, 60.14, 80.44, 86.74, 8.04, 70.66, 49.36, 28.06, 65.76, 45.76, 95.76, 45.76, 66.76],\n",
        "    'Admitted': [0, 0, 0, 1, 1, 1, 0, 0, 0, 0, 1, 1, 1, 0, 0, 0, 0, 0, 1, 1, 0, 1, 1, 1, 1, 1, 1, 1, 0, 0, 0, 0, 0, 0, 1, 0, 1]\n",
        "})\n"
      ]
    },
    {
      "cell_type": "code",
      "execution_count": null,
      "id": "a824352a",
      "metadata": {
        "id": "a824352a"
      },
      "outputs": [],
      "source": [
        "\n",
        "# Split the dataset into features (X) and the target variable (y)\n",
        "X = data[['Exam1', 'Exam2']]\n",
        "y = data['Admitted']\n",
        "\n",
        "# Split the data into training and testing sets\n",
        "X_train, X_test, y_train, y_test = train_test_split(X, y, test_size=0.2, random_state=42)\n",
        "\n"
      ]
    },
    {
      "cell_type": "code",
      "execution_count": null,
      "id": "61e38d56",
      "metadata": {
        "id": "61e38d56"
      },
      "outputs": [],
      "source": [
        "\n",
        "# Create and train the logistic regression model\n",
        "logistic_model = LogisticRegression()\n",
        "logistic_model.fit(X_train, y_train)\n",
        "\n",
        "# Make predictions on the training and testing sets\n",
        "y_train_pred = logistic_model.predict(X_train)\n",
        "y_test_pred = logistic_model.predict(X_test)\n",
        "\n"
      ]
    },
    {
      "cell_type": "code",
      "execution_count": null,
      "id": "eff67f89",
      "metadata": {
        "id": "eff67f89",
        "outputId": "4035a27c-1879-47a0-e3e2-3dc91ada6160"
      },
      "outputs": [
        {
          "name": "stdout",
          "output_type": "stream",
          "text": [
            "Training Accuracy: 0.9310344827586207\n",
            "Testing Accuracy: 1.0\n"
          ]
        }
      ],
      "source": [
        "\n",
        "# Calculate accuracy for both training and testing data\n",
        "train_accuracy = accuracy_score(y_train, y_train_pred)\n",
        "test_accuracy = accuracy_score(y_test, y_test_pred)\n",
        "\n",
        "print(\"Training Accuracy:\", train_accuracy)\n",
        "print(\"Testing Accuracy:\", test_accuracy)\n",
        "\n"
      ]
    },
    {
      "cell_type": "code",
      "execution_count": null,
      "id": "70c96321",
      "metadata": {
        "id": "70c96321",
        "outputId": "75649133-5938-41d5-b3e3-6eaa64456966"
      },
      "outputs": [
        {
          "name": "stdout",
          "output_type": "stream",
          "text": [
            "Training Precision: 0.9285714285714286\n",
            "Training Recall: 0.9285714285714286\n",
            "Training F1 Score: 0.9285714285714286\n",
            "Testing Precision: 1.0\n",
            "Testing Recall: 1.0\n",
            "Testing F1 Score: 1.0\n"
          ]
        }
      ],
      "source": [
        "\n",
        "# Calculate the confusion matrix for training and testing data\n",
        "conf_matrix_train = confusion_matrix(y_train, y_train_pred)\n",
        "conf_matrix_test = confusion_matrix(y_test, y_test_pred)\n",
        "\n",
        "# Calculate precision, recall, and F1 score for training data\n",
        "train_precision = precision_score(y_train, y_train_pred)\n",
        "train_recall = recall_score(y_train, y_train_pred)\n",
        "train_f1 = f1_score(y_train, y_train_pred)\n",
        "\n",
        "# Calculate precision, recall, and F1 score for testing data\n",
        "test_precision = precision_score(y_test, y_test_pred)\n",
        "test_recall = recall_score(y_test, y_test_pred)\n",
        "test_f1 = f1_score(y_test, y_test_pred)\n",
        "\n",
        "# Print the metrics\n",
        "print(\"Training Precision:\", train_precision)\n",
        "print(\"Training Recall:\", train_recall)\n",
        "print(\"Training F1 Score:\", train_f1)\n",
        "print(\"Testing Precision:\", test_precision)\n",
        "print(\"Testing Recall:\", test_recall)\n",
        "print(\"Testing F1 Score:\", test_f1)\n"
      ]
    },
    {
      "cell_type": "code",
      "execution_count": null,
      "id": "e95885f6",
      "metadata": {
        "id": "e95885f6",
        "outputId": "c83c9a32-9765-482b-cd39-f8b941c6efbe"
      },
      "outputs": [
        {
          "data": {
            "image/png": "[encoded data removed]",
            "text/plain": [
              "<Figure size 1200x500 with 4 Axes>"
            ]
          },
          "metadata": {},
          "output_type": "display_data"
        }
      ],
      "source": [
        "# Create subplots for both confusion matrices\n",
        "fig, (ax1, ax2) = plt.subplots(1, 2, figsize=(12, 5))\n",
        "\n",
        "\n",
        "# Plot the confusion matrix for training data\n",
        "sns.heatmap(conf_matrix_train, annot=True, fmt='d', cmap='Blues',\n",
        "            xticklabels=['Predicted 0', 'Predicted 1'],\n",
        "            yticklabels=['Actual 0', 'Actual 1'], ax=ax1)\n",
        "ax1.set_xlabel('Predicted')\n",
        "ax1.set_ylabel('Actual')\n",
        "ax1.set_title('Confusion Matrix for Training Data')\n",
        "\n",
        "#sns.heatmap: This function from the Seaborn library is used to plot a heatmap.\n",
        "#conf_matrix_train: This variable contains the confusion matrix for the training data.\n",
        "#annot=True: It annotates the heatmap cells with the data values.\n",
        "#fmt='d': Specifies the format for the annotations as integers.\n",
        "#cmap='Blues': Sets the color map to 'Blues'.\n",
        "#xticklabels=['Predicted 0', 'Predicted 1']: Labels for the x-axis ticks,\n",
        "\n",
        "# Plot the confusion matrix for testing data\n",
        "sns.heatmap(conf_matrix_test, annot=True, fmt='d', cmap='Blues',\n",
        "            xticklabels=['Predicted 0', 'Predicted 1'],\n",
        "            yticklabels=['Actual 0', 'Actual 1'], ax=ax2)\n",
        "ax2.set_xlabel('Predicted')\n",
        "ax2.set_ylabel('Actual')\n",
        "ax2.set_title('Confusion Matrix for Testing Data')\n",
        "\n",
        "plt.show()\n"
      ]
    },
    {
      "cell_type": "code",
      "execution_count": null,
      "id": "c08432ef",
      "metadata": {
        "id": "c08432ef",
        "outputId": "c12f3a2d-0054-42d3-e9ad-36aced5c916e"
      },
      "outputs": [
        {
          "data": {
            "image/png": "[encoded data removed]",
            "text/plain": [
              "<Figure size 640x480 with 1 Axes>"
            ]
          },
          "metadata": {},
          "output_type": "display_data"
        }
      ],
      "source": [
        "import numpy as np\n",
        "import matplotlib.pyplot as plt\n",
        "\n",
        "\n",
        "x = np.arange(-5.0, 5.0, 0.1)\n",
        "\n",
        "# You can adjust the slope and intercept\n",
        "# to verify the changes in the graph\n",
        "y = 2*(x) + 3\n",
        "\n",
        "y_noise = 2 * np.random.normal(size=x.size)\n",
        "#Adds random noise to the 'y' values using a normal distribution with a standard deviation of 2.\n",
        "\n",
        "ydata = y + y_noise\n",
        "#Creates 'ydata' by adding the noise to the original 'y' values.\n",
        "\n",
        "# plt.figure(figsize =(8, 6))\n",
        "plt.plot(x, ydata,  'bo')\n",
        "plt.plot(x, y, 'r')\n",
        "plt.ylabel('Dependent Variable')\n",
        "plt.xlabel('Independent Variable')\n",
        "plt.show()\n",
        "\n",
        "\n",
        "\n"
      ]
    },
    {
      "cell_type": "code",
      "execution_count": null,
      "id": "b470ae8c",
      "metadata": {
        "id": "b470ae8c",
        "outputId": "a3c22eee-212c-43bc-9570-1a1c8503982a"
      },
      "outputs": [
        {
          "data": {
            "image/png": "[encoded data removed]",
            "text/plain": [
              "<Figure size 640x480 with 1 Axes>"
            ]
          },
          "metadata": {},
          "output_type": "display_data"
        }
      ],
      "source": [
        "#Let’s create quadratic regression data for instance.\n",
        "import numpy as np\n",
        "import matplotlib.pyplot as plt\n",
        "%matplotlib inline\n",
        "\n",
        "x = np.arange(-5.0, 5.0, 0.1)\n",
        "\n",
        "# You can adjust the slope and intercept\n",
        "# to verify the changes in the graph\n",
        "y = np.power(x, 2)\n",
        "y_noise = 2 * np.random.normal(size=x.size)\n",
        "ydata = y + y_noise\n",
        "plt.plot(x, ydata,  'bo')\n",
        "plt.plot(x, y, 'r')\n",
        "plt.ylabel('Dependent Variable')\n",
        "plt.xlabel('Independent Variable')\n",
        "plt.show()"
      ]
    },
    {
      "cell_type": "code",
      "execution_count": null,
      "id": "01f431b8",
      "metadata": {
        "id": "01f431b8",
        "outputId": "fc701537-56e2-4dfe-f5c3-e5a26aa5b262"
      },
      "outputs": [
        {
          "data": {
            "image/png": "[encoded data removed]",
            "text/plain": [
              "<Figure size 640x480 with 1 Axes>"
            ]
          },
          "metadata": {},
          "output_type": "display_data"
        }
      ],
      "source": [
        "import numpy as np\n",
        "import matplotlib.pyplot as plt\n",
        "\n",
        "\n",
        "x = np.arange(-5.0, 5.0, 0.1)\n",
        "\n",
        "# You can adjust the slope and intercept\n",
        "# to verify the changes in the graph\n",
        "y = 1*(x**3) + 1*(x**2) + 1 * x + 3\n",
        "y_noise = 20 * np.random.normal(size=x.size)\n",
        "# It uses the np.random.normal function to generate random values from a normal distribution with a mean of 0 and\n",
        "# standard deviation of 20. The noise is scaled by a factor of 20.\n",
        "# These noisy values will be added to the original y values to simulate real-world data with variability.\n",
        "ydata = y + y_noise\n",
        "plt.plot(x, ydata,  'bo')\n",
        "plt.plot(x, y, 'r')\n",
        "plt.ylabel('Dependent Variable')\n",
        "plt.xlabel('Independent Variable')\n",
        "plt.show()"
      ]
    },
    {
      "cell_type": "raw",
      "id": "fefabe71",
      "metadata": {
        "id": "fefabe71"
      },
      "source": [
        "The polynomial equation used in the code is generated by PolynomialFeatures and subsequently fitted by LinearRegression. The equation for a polynomial regression model can be represented as:\n",
        "\n",
        "Polynomial Equation:\n",
        "\n",
        "Y = β₀ + β₁X + β₂X² + β₃X³ + ... + βₖXᵏ\n",
        "\n",
        "Where:\n",
        "\n",
        "Y is the dependent variable (output or response).\n",
        "X is the independent variable (input or feature).\n",
        "β₀, β₁, β₂, β₃, ..., βₖ are the coefficients or parameters of the model.\n",
        "In the code you provided, we first use PolynomialFeatures to generate polynomial features, and then we use LinearRegression to fit the model. The polynomial features are created by raising the original feature X to different powers, depending on the degree specified. For example, for degree 2, the model will have terms for X², for degree 3, it will have terms for X³, and so on.\n",
        "\n",
        "Here's how you can represent the polynomial equation for degree 2 (quadratic) polynomial regression:\n",
        "\n",
        "Quadratic Polynomial Equation:\n",
        "\n",
        "Y = β₀ + β₁X + β₂X²\n",
        "\n",
        "For degree 3 (cubic) polynomial regression:\n",
        "\n",
        "Cubic Polynomial Equation:\n",
        "\n",
        "Y = β₀ + β₁X + β₂X² + β₃*X³\n",
        "\n",
        "And for degree 4 polynomial regression, the equation would include terms up to X⁴, and so on.\n",
        "\n",
        "The coefficients β₀, β₁, β₂, β₃, etc., are the parameters that the model learns during the fitting process, and they determine the shape of the polynomial curve that best fits the data. These coefficients are estimated by the LinearRegression model in the code."
      ]
    },
    {
      "cell_type": "raw",
      "id": "2d43346f",
      "metadata": {
        "id": "2d43346f"
      },
      "source": [
        "Need for Polynomial Regression:\n",
        "The need of Polynomial Regression in ML can be understood in the below points:\n",
        "\n",
        "If we apply a linear model on a linear dataset, then it provides us a good result as we have seen in Simple Linear Regression, but if we apply the same model without any modification on a non-linear dataset, then it will produce a drastic output. Due to which loss function will increase, the error rate will be high, and accuracy will be decreased.\n",
        "\n",
        "So for such cases, where data points are arranged in a non-linear fashion, we need the Polynomial Regression model. We can understand it in a better way using the below comparison diagram of the linear dataset and non-linear dataset.\n",
        "ML Polynomial Regression"
      ]
    },
    {
      "cell_type": "markdown",
      "id": "6d56e56f",
      "metadata": {
        "id": "6d56e56f"
      },
      "source": [
        "\n",
        "![image.png](attachment:image.png)\n"
      ]
    },
    {
      "cell_type": "markdown",
      "id": "39fdae86",
      "metadata": {
        "id": "39fdae86"
      },
      "source": [
        "Equation of the Polynomial Regression Model:\n",
        "\n",
        "Simple Linear Regression equation:         y = b0+b1x         .........(a)\n",
        "\n",
        "Multiple Linear Regression equation:         y= b0+b1x+ b2x2+ b3x3+....+ bnxn         .........(b)\n",
        "\n",
        "Polynomial Regression equation:         y= b0+b1x + b2x2+ b3x3+....+ bnxn         ..........(c)"
      ]
    },
    {
      "cell_type": "raw",
      "id": "f7fcd032",
      "metadata": {
        "id": "f7fcd032"
      },
      "source": [
        "Problem Description: There is a Human Resource company, which is going to hire a new candidate. The candidate has told his previous salary 160K per annum, and the HR have to check whether he is telling the truth or bluff. So to identify this, they only have a dataset of his previous company in which the salaries of the top 10 positions are mentioned with their levels. By checking the dataset available, we have found that there is a non-linear relationship between the Position levels and the salaries. Our goal is to build a Bluffing detector regression model, so HR can hire an honest candidate. Below are the steps to build such a model."
      ]
    },
    {
      "cell_type": "markdown",
      "id": "58770359",
      "metadata": {
        "id": "58770359"
      },
      "source": [
        "![image.png](attachment:image.png)"
      ]
    },
    {
      "cell_type": "code",
      "execution_count": null,
      "id": "b5c14639",
      "metadata": {
        "id": "b5c14639"
      },
      "outputs": [],
      "source": [
        "# importing libraries\n",
        "import numpy as nm\n",
        "import matplotlib.pyplot as mtp\n",
        "import pandas as pd\n",
        "\n",
        "#importing datasets\n",
        "data_set= pd.read_csv('Position_Salaries.csv')\n",
        "\n",
        "#Extracting Independent and dependent Variable\n",
        "x= data_set.iloc[:, 1:2].values\n",
        "\n",
        "# data_set.iloc[:, 1:2] selects all rows (:) and the second column (1:2, excluding the second index).\n",
        "# .values converts the selected DataFrame slice into a NumPy array.\n",
        "\n",
        "y= data_set.iloc[:, 2].values\n",
        "\n"
      ]
    },
    {
      "cell_type": "code",
      "execution_count": null,
      "id": "2b18342b",
      "metadata": {
        "id": "2b18342b",
        "outputId": "d97ea27f-5d5a-4e31-8591-43a3622bf42a"
      },
      "outputs": [
        {
          "data": {
            "text/html": [
              "<style>#sk-container-id-2 {color: black;background-color: white;}#sk-container-id-2 pre{padding: 0;}#sk-container-id-2 div.sk-toggleable {background-color: white;}#sk-container-id-2 label.sk-toggleable__label {cursor: pointer;display: block;width: 100%;margin-bottom: 0;padding: 0.3em;box-sizing: border-box;text-align: center;}#sk-container-id-2 label.sk-toggleable__label-arrow:before {content: \"▸\";float: left;margin-right: 0.25em;color: #696969;}#sk-container-id-2 label.sk-toggleable__label-arrow:hover:before {color: black;}#sk-container-id-2 div.sk-estimator:hover label.sk-toggleable__label-arrow:before {color: black;}#sk-container-id-2 div.sk-toggleable__content {max-height: 0;max-width: 0;overflow: hidden;text-align: left;background-color: #f0f8ff;}#sk-container-id-2 div.sk-toggleable__content pre {margin: 0.2em;color: black;border-radius: 0.25em;background-color: #f0f8ff;}#sk-container-id-2 input.sk-toggleable__control:checked~div.sk-toggleable__content {max-height: 200px;max-width: 100%;overflow: auto;}#sk-container-id-2 input.sk-toggleable__control:checked~label.sk-toggleable__label-arrow:before {content: \"▾\";}#sk-container-id-2 div.sk-estimator input.sk-toggleable__control:checked~label.sk-toggleable__label {background-color: #d4ebff;}#sk-container-id-2 div.sk-label input.sk-toggleable__control:checked~label.sk-toggleable__label {background-color: #d4ebff;}#sk-container-id-2 input.sk-hidden--visually {border: 0;clip: rect(1px 1px 1px 1px);clip: rect(1px, 1px, 1px, 1px);height: 1px;margin: -1px;overflow: hidden;padding: 0;position: absolute;width: 1px;}#sk-container-id-2 div.sk-estimator {font-family: monospace;background-color: #f0f8ff;border: 1px dotted black;border-radius: 0.25em;box-sizing: border-box;margin-bottom: 0.5em;}#sk-container-id-2 div.sk-estimator:hover {background-color: #d4ebff;}#sk-container-id-2 div.sk-parallel-item::after {content: \"\";width: 100%;border-bottom: 1px solid gray;flex-grow: 1;}#sk-container-id-2 div.sk-label:hover label.sk-toggleable__label {background-color: #d4ebff;}#sk-container-id-2 div.sk-serial::before {content: \"\";position: absolute;border-left: 1px solid gray;box-sizing: border-box;top: 0;bottom: 0;left: 50%;z-index: 0;}#sk-container-id-2 div.sk-serial {display: flex;flex-direction: column;align-items: center;background-color: white;padding-right: 0.2em;padding-left: 0.2em;position: relative;}#sk-container-id-2 div.sk-item {position: relative;z-index: 1;}#sk-container-id-2 div.sk-parallel {display: flex;align-items: stretch;justify-content: center;background-color: white;position: relative;}#sk-container-id-2 div.sk-item::before, #sk-container-id-2 div.sk-parallel-item::before {content: \"\";position: absolute;border-left: 1px solid gray;box-sizing: border-box;top: 0;bottom: 0;left: 50%;z-index: -1;}#sk-container-id-2 div.sk-parallel-item {display: flex;flex-direction: column;z-index: 1;position: relative;background-color: white;}#sk-container-id-2 div.sk-parallel-item:first-child::after {align-self: flex-end;width: 50%;}#sk-container-id-2 div.sk-parallel-item:last-child::after {align-self: flex-start;width: 50%;}#sk-container-id-2 div.sk-parallel-item:only-child::after {width: 0;}#sk-container-id-2 div.sk-dashed-wrapped {border: 1px dashed gray;margin: 0 0.4em 0.5em 0.4em;box-sizing: border-box;padding-bottom: 0.4em;background-color: white;}#sk-container-id-2 div.sk-label label {font-family: monospace;font-weight: bold;display: inline-block;line-height: 1.2em;}#sk-container-id-2 div.sk-label-container {text-align: center;}#sk-container-id-2 div.sk-container {/* jupyter's `normalize.less` sets `[hidden] { display: none; }` but bootstrap.min.css set `[hidden] { display: none !important; }` so we also need the `!important` here to be able to override the default hidden behavior on the sphinx rendered scikit-learn.org. See: https://github.com/scikit-learn/scikit-learn/issues/21755 */display: inline-block !important;position: relative;}#sk-container-id-2 div.sk-text-repr-fallback {display: none;}</style><div id=\"sk-container-id-2\" class=\"sk-top-container\"><div class=\"sk-text-repr-fallback\"><pre>LinearRegression()</pre><b>In a Jupyter environment, please rerun this cell to show the HTML representation or trust the notebook. <br />On GitHub, the HTML representation is unable to render, please try loading this page with nbviewer.org.</b></div><div class=\"sk-container\" hidden><div class=\"sk-item\"><div class=\"sk-estimator sk-toggleable\"><input class=\"sk-toggleable__control sk-hidden--visually\" id=\"sk-estimator-id-2\" type=\"checkbox\" checked><label for=\"sk-estimator-id-2\" class=\"sk-toggleable__label sk-toggleable__label-arrow\">LinearRegression</label><div class=\"sk-toggleable__content\"><pre>LinearRegression()</pre></div></div></div></div></div>"
            ],
            "text/plain": [
              "LinearRegression()"
            ]
          },
          "execution_count": 49,
          "metadata": {},
          "output_type": "execute_result"
        }
      ],
      "source": [
        "#Fitting the Linear Regression to the dataset\n",
        "from sklearn.linear_model import LinearRegression\n",
        "lin_regs= LinearRegression()\n",
        "lin_regs.fit(x,y)"
      ]
    },
    {
      "cell_type": "code",
      "execution_count": null,
      "id": "7e444ac1",
      "metadata": {
        "id": "7e444ac1",
        "outputId": "75f7d790-0388-4c1f-b9f9-2af33d984e24"
      },
      "outputs": [
        {
          "data": {
            "text/html": [
              "<style>#sk-container-id-3 {color: black;background-color: white;}#sk-container-id-3 pre{padding: 0;}#sk-container-id-3 div.sk-toggleable {background-color: white;}#sk-container-id-3 label.sk-toggleable__label {cursor: pointer;display: block;width: 100%;margin-bottom: 0;padding: 0.3em;box-sizing: border-box;text-align: center;}#sk-container-id-3 label.sk-toggleable__label-arrow:before {content: \"▸\";float: left;margin-right: 0.25em;color: #696969;}#sk-container-id-3 label.sk-toggleable__label-arrow:hover:before {color: black;}#sk-container-id-3 div.sk-estimator:hover label.sk-toggleable__label-arrow:before {color: black;}#sk-container-id-3 div.sk-toggleable__content {max-height: 0;max-width: 0;overflow: hidden;text-align: left;background-color: #f0f8ff;}#sk-container-id-3 div.sk-toggleable__content pre {margin: 0.2em;color: black;border-radius: 0.25em;background-color: #f0f8ff;}#sk-container-id-3 input.sk-toggleable__control:checked~div.sk-toggleable__content {max-height: 200px;max-width: 100%;overflow: auto;}#sk-container-id-3 input.sk-toggleable__control:checked~label.sk-toggleable__label-arrow:before {content: \"▾\";}#sk-container-id-3 div.sk-estimator input.sk-toggleable__control:checked~label.sk-toggleable__label {background-color: #d4ebff;}#sk-container-id-3 div.sk-label input.sk-toggleable__control:checked~label.sk-toggleable__label {background-color: #d4ebff;}#sk-container-id-3 input.sk-hidden--visually {border: 0;clip: rect(1px 1px 1px 1px);clip: rect(1px, 1px, 1px, 1px);height: 1px;margin: -1px;overflow: hidden;padding: 0;position: absolute;width: 1px;}#sk-container-id-3 div.sk-estimator {font-family: monospace;background-color: #f0f8ff;border: 1px dotted black;border-radius: 0.25em;box-sizing: border-box;margin-bottom: 0.5em;}#sk-container-id-3 div.sk-estimator:hover {background-color: #d4ebff;}#sk-container-id-3 div.sk-parallel-item::after {content: \"\";width: 100%;border-bottom: 1px solid gray;flex-grow: 1;}#sk-container-id-3 div.sk-label:hover label.sk-toggleable__label {background-color: #d4ebff;}#sk-container-id-3 div.sk-serial::before {content: \"\";position: absolute;border-left: 1px solid gray;box-sizing: border-box;top: 0;bottom: 0;left: 50%;z-index: 0;}#sk-container-id-3 div.sk-serial {display: flex;flex-direction: column;align-items: center;background-color: white;padding-right: 0.2em;padding-left: 0.2em;position: relative;}#sk-container-id-3 div.sk-item {position: relative;z-index: 1;}#sk-container-id-3 div.sk-parallel {display: flex;align-items: stretch;justify-content: center;background-color: white;position: relative;}#sk-container-id-3 div.sk-item::before, #sk-container-id-3 div.sk-parallel-item::before {content: \"\";position: absolute;border-left: 1px solid gray;box-sizing: border-box;top: 0;bottom: 0;left: 50%;z-index: -1;}#sk-container-id-3 div.sk-parallel-item {display: flex;flex-direction: column;z-index: 1;position: relative;background-color: white;}#sk-container-id-3 div.sk-parallel-item:first-child::after {align-self: flex-end;width: 50%;}#sk-container-id-3 div.sk-parallel-item:last-child::after {align-self: flex-start;width: 50%;}#sk-container-id-3 div.sk-parallel-item:only-child::after {width: 0;}#sk-container-id-3 div.sk-dashed-wrapped {border: 1px dashed gray;margin: 0 0.4em 0.5em 0.4em;box-sizing: border-box;padding-bottom: 0.4em;background-color: white;}#sk-container-id-3 div.sk-label label {font-family: monospace;font-weight: bold;display: inline-block;line-height: 1.2em;}#sk-container-id-3 div.sk-label-container {text-align: center;}#sk-container-id-3 div.sk-container {/* jupyter's `normalize.less` sets `[hidden] { display: none; }` but bootstrap.min.css set `[hidden] { display: none !important; }` so we also need the `!important` here to be able to override the default hidden behavior on the sphinx rendered scikit-learn.org. See: https://github.com/scikit-learn/scikit-learn/issues/21755 */display: inline-block !important;position: relative;}#sk-container-id-3 div.sk-text-repr-fallback {display: none;}</style><div id=\"sk-container-id-3\" class=\"sk-top-container\"><div class=\"sk-text-repr-fallback\"><pre>LinearRegression()</pre><b>In a Jupyter environment, please rerun this cell to show the HTML representation or trust the notebook. <br />On GitHub, the HTML representation is unable to render, please try loading this page with nbviewer.org.</b></div><div class=\"sk-container\" hidden><div class=\"sk-item\"><div class=\"sk-estimator sk-toggleable\"><input class=\"sk-toggleable__control sk-hidden--visually\" id=\"sk-estimator-id-3\" type=\"checkbox\" checked><label for=\"sk-estimator-id-3\" class=\"sk-toggleable__label sk-toggleable__label-arrow\">LinearRegression</label><div class=\"sk-toggleable__content\"><pre>LinearRegression()</pre></div></div></div></div></div>"
            ],
            "text/plain": [
              "LinearRegression()"
            ]
          },
          "execution_count": 50,
          "metadata": {},
          "output_type": "execute_result"
        }
      ],
      "source": [
        " #Fitting the Polynomial regression to the dataset\n",
        "from sklearn.preprocessing import PolynomialFeatures\n",
        "poly_regs= PolynomialFeatures(degree= 2)\n",
        "x_poly= poly_regs.fit_transform(x)\n",
        "lin_reg_2 =LinearRegression()\n",
        "lin_reg_2.fit(x_poly, y)"
      ]
    },
    {
      "cell_type": "code",
      "execution_count": null,
      "id": "bed3db26",
      "metadata": {
        "id": "bed3db26"
      },
      "outputs": [],
      "source": [
        "#print(x_poly)"
      ]
    },
    {
      "cell_type": "code",
      "execution_count": null,
      "id": "cbab52c0",
      "metadata": {
        "id": "cbab52c0",
        "outputId": "2668c616-b1eb-479c-dd88-04c21f95b5d1"
      },
      "outputs": [
        {
          "data": {
            "image/png": "[encoded data removed]",
            "text/plain": [
              "<Figure size 640x480 with 1 Axes>"
            ]
          },
          "metadata": {},
          "output_type": "display_data"
        }
      ],
      "source": [
        "#Visulaizing the result for Linear Regression model\n",
        "mtp.scatter(x,y,color=\"blue\")\n",
        "mtp.plot(x,lin_regs.predict(x), color=\"red\")\n",
        "mtp.title(\"Bluff detection model(Linear Regression)\")\n",
        "mtp.xlabel(\"Position Levels\")\n",
        "mtp.ylabel(\"Salary\")\n",
        "mtp.show()"
      ]
    },
    {
      "cell_type": "code",
      "execution_count": null,
      "id": "de8579c3",
      "metadata": {
        "id": "de8579c3",
        "outputId": "dc23d9b7-d80e-4d5d-e619-b0c7ae4438e2"
      },
      "outputs": [
        {
          "data": {
            "image/png": "[encoded data removed]",
            "text/plain": [
              "<Figure size 640x480 with 1 Axes>"
            ]
          },
          "metadata": {},
          "output_type": "display_data"
        }
      ],
      "source": [
        "#Visulaizing the result for Polynomial Regression\n",
        "mtp.scatter(x,y,color=\"blue\")\n",
        "mtp.plot(x, lin_reg_2.predict(poly_regs.fit_transform(x)), color=\"red\")\n",
        "mtp.title(\"Bluff detection model(Polynomial Regression)\")\n",
        "mtp.xlabel(\"Position Levels\")\n",
        "mtp.ylabel(\"Salary\")\n",
        "mtp.show()"
      ]
    },
    {
      "cell_type": "code",
      "execution_count": null,
      "id": "d3da2deb",
      "metadata": {
        "id": "d3da2deb",
        "outputId": "a3215106-c157-41e0-df9e-fcec05c26f64"
      },
      "outputs": [
        {
          "data": {
            "image/png": "[encoded data removed]",
            "text/plain": [
              "<Figure size 640x480 with 1 Axes>"
            ]
          },
          "metadata": {},
          "output_type": "display_data"
        }
      ],
      "source": [
        " #Fitting the Polynomial regression to the dataset degree 3\n",
        "from sklearn.preprocessing import PolynomialFeatures\n",
        "poly_regs= PolynomialFeatures(degree= 3)\n",
        "x_poly= poly_regs.fit_transform(x)\n",
        "lin_reg_2 =LinearRegression()\n",
        "lin_reg_2.fit(x_poly, y)\n",
        "\n",
        "#Visulaizing the result for Polynomial Regression\n",
        "mtp.scatter(x,y,color=\"blue\")\n",
        "mtp.plot(x, lin_reg_2.predict(poly_regs.fit_transform(x)), color=\"red\")\n",
        "mtp.title(\"Bluff detection model(Polynomial Regression)\")\n",
        "mtp.xlabel(\"Position Levels\")\n",
        "mtp.ylabel(\"Salary\")\n",
        "mtp.show()"
      ]
    },
    {
      "cell_type": "code",
      "execution_count": null,
      "id": "090fdc82",
      "metadata": {
        "id": "090fdc82",
        "outputId": "6dcea849-b5cd-4df7-a307-4b5b57c56157"
      },
      "outputs": [
        {
          "data": {
            "image/png": "[encoded data removed]",
            "text/plain": [
              "<Figure size 640x480 with 1 Axes>"
            ]
          },
          "metadata": {},
          "output_type": "display_data"
        }
      ],
      "source": [
        " #Fitting the Polynomial regression to the dataset degree 4\n",
        "from sklearn.preprocessing import PolynomialFeatures\n",
        "poly_regs= PolynomialFeatures(degree= 4)\n",
        "x_poly= poly_regs.fit_transform(x)\n",
        "lin_reg_2 =LinearRegression()\n",
        "lin_reg_2.fit(x_poly, y)\n",
        "\n",
        "#Visulaizing the result for Polynomial Regression\n",
        "mtp.scatter(x,y,color=\"blue\")\n",
        "mtp.plot(x, lin_reg_2.predict(poly_regs.fit_transform(x)), color=\"red\")\n",
        "mtp.title(\"Bluff detection model(Polynomial Regression)\")\n",
        "mtp.xlabel(\"Position Levels\")\n",
        "mtp.ylabel(\"Salary\")\n",
        "mtp.show()"
      ]
    },
    {
      "cell_type": "code",
      "execution_count": null,
      "id": "3db3aa3e",
      "metadata": {
        "id": "3db3aa3e",
        "outputId": "bbadab83-b65d-4e8d-dcd0-87ce07c66c36"
      },
      "outputs": [
        {
          "name": "stdout",
          "output_type": "stream",
          "text": [
            "[328537.87878788]\n"
          ]
        }
      ],
      "source": [
        "lin_pred = lin_regs.predict([[6.5]])\n",
        "print(lin_pred)"
      ]
    },
    {
      "cell_type": "code",
      "execution_count": null,
      "id": "b9214ca4",
      "metadata": {
        "id": "b9214ca4",
        "outputId": "14a45e05-7eee-449a-ed5a-473f7f5456e9"
      },
      "outputs": [
        {
          "name": "stdout",
          "output_type": "stream",
          "text": [
            "[133581.62878788]\n"
          ]
        }
      ],
      "source": [
        "poly_pred = lin_reg_2.predict(poly_regs.fit_transform([[6.5]]))\n",
        "print(poly_pred)"
      ]
    },
    {
      "cell_type": "code",
      "execution_count": null,
      "id": "d1a5b6b3",
      "metadata": {
        "id": "d1a5b6b3",
        "outputId": "7e95b999-0a94-4652-e714-f922eafe9cfb"
      },
      "outputs": [
        {
          "name": "stdout",
          "output_type": "stream",
          "text": [
            "Degree 2:\n",
            "Training - Precision: 1.0\n",
            "Training - Recall: 0.9285714285714286\n",
            "Training - F1 Score: 0.962962962962963\n",
            "Testing - Precision: 1.0\n",
            "Testing - Recall: 1.0\n",
            "Testing - F1 Score: 1.0\n",
            "Degree 3:\n",
            "Training - Precision: 1.0\n",
            "Training - Recall: 0.9285714285714286\n",
            "Training - F1 Score: 0.962962962962963\n",
            "Testing - Precision: 0.75\n",
            "Testing - Recall: 1.0\n",
            "Testing - F1 Score: 0.8571428571428571\n",
            "Degree 4:\n",
            "Training - Precision: 1.0\n",
            "Training - Recall: 1.0\n",
            "Training - F1 Score: 1.0\n",
            "Testing - Precision: 0.6\n",
            "Testing - Recall: 1.0\n",
            "Testing - F1 Score: 0.7499999999999999\n"
          ]
        },
        {
          "name": "stderr",
          "output_type": "stream",
          "text": [
            "C:\\Users\\Faraz Ahmad\\anaconda3\\lib\\site-packages\\sklearn\\linear_model\\_logistic.py:458: ConvergenceWarning: lbfgs failed to converge (status=1):\n",
            "STOP: TOTAL NO. of ITERATIONS REACHED LIMIT.\n",
            "\n",
            "Increase the number of iterations (max_iter) or scale the data as shown in:\n",
            "    https://scikit-learn.org/stable/modules/preprocessing.html\n",
            "Please also refer to the documentation for alternative solver options:\n",
            "    https://scikit-learn.org/stable/modules/linear_model.html#logistic-regression\n",
            "  n_iter_i = _check_optimize_result(\n"
          ]
        }
      ],
      "source": [
        "import numpy as np\n",
        "from sklearn.preprocessing import PolynomialFeatures\n",
        "from sklearn.linear_model import LogisticRegression\n",
        "from sklearn.metrics import precision_score, recall_score, f1_score\n",
        "\n",
        "# Assuming you have X_train, X_test, y_train, y_test as your training and testing data\n",
        "\n",
        "degrees = [2, 3, 4]\n",
        "\n",
        "for degree in degrees:\n",
        "    # Polynomial transformation\n",
        "    poly = PolynomialFeatures(degree=degree)\n",
        "    X_train_poly = poly.fit_transform(X_train)\n",
        "    X_test_poly = poly.transform(X_test)\n",
        "\n",
        "    # Logistic Regression model\n",
        "    logreg = LogisticRegression()\n",
        "    logreg.fit(X_train_poly, y_train)\n",
        "\n",
        "    # Predictions\n",
        "    y_pred_train = logreg.predict(X_train_poly)\n",
        "    y_pred_test = logreg.predict(X_test_poly)\n",
        "\n",
        "    # Calculate precision, recall, and F1-score for training set\n",
        "    precision_train = precision_score(y_train, y_pred_train)\n",
        "    recall_train = recall_score(y_train, y_pred_train)\n",
        "    f1_train = f1_score(y_train, y_pred_train)\n",
        "\n",
        "    # Calculate precision, recall, and F1-score for testing set\n",
        "    precision_test = precision_score(y_test, y_pred_test)\n",
        "    recall_test = recall_score(y_test, y_pred_test)\n",
        "    f1_test = f1_score(y_test, y_pred_test)\n",
        "\n",
        "    # Print results\n",
        "    print(f\"Degree {degree}:\")\n",
        "    print(\"Training - Precision:\", precision_train)\n",
        "    print(\"Training - Recall:\", recall_train)\n",
        "    print(\"Training - F1 Score:\", f1_train)\n",
        "    print(\"Testing - Precision:\", precision_test)\n",
        "    print(\"Testing - Recall:\", recall_test)\n",
        "    print(\"Testing - F1 Score:\", f1_test)\n"
      ]
    },
    {
      "cell_type": "code",
      "execution_count": null,
      "id": "457c067d",
      "metadata": {
        "id": "457c067d",
        "outputId": "42516849-d45e-4b1f-a479-94d900e0bc08"
      },
      "outputs": [
        {
          "name": "stdout",
          "output_type": "stream",
          "text": [
            "Degree 2:\n",
            "Testing - Accuracy: 1.0\n",
            "Testing - Precision: 1.0\n",
            "Testing - Recall: 1.0\n",
            "Testing - F1 Score: 1.0\n",
            "Testing - AUROC: 1.0\n",
            "Degree 3:\n",
            "Testing - Accuracy: 0.875\n",
            "Testing - Precision: 0.75\n",
            "Testing - Recall: 1.0\n",
            "Testing - F1 Score: 0.8571428571428571\n",
            "Testing - AUROC: 1.0\n",
            "Degree 4:\n",
            "Testing - Accuracy: 0.75\n",
            "Testing - Precision: 0.6\n",
            "Testing - Recall: 1.0\n",
            "Testing - F1 Score: 0.7499999999999999\n",
            "Testing - AUROC: 0.8\n"
          ]
        },
        {
          "name": "stderr",
          "output_type": "stream",
          "text": [
            "C:\\Users\\Faraz Ahmad\\anaconda3\\lib\\site-packages\\sklearn\\linear_model\\_logistic.py:458: ConvergenceWarning: lbfgs failed to converge (status=1):\n",
            "STOP: TOTAL NO. of ITERATIONS REACHED LIMIT.\n",
            "\n",
            "Increase the number of iterations (max_iter) or scale the data as shown in:\n",
            "    https://scikit-learn.org/stable/modules/preprocessing.html\n",
            "Please also refer to the documentation for alternative solver options:\n",
            "    https://scikit-learn.org/stable/modules/linear_model.html#logistic-regression\n",
            "  n_iter_i = _check_optimize_result(\n"
          ]
        }
      ],
      "source": [
        "import numpy as np\n",
        "from sklearn.preprocessing import PolynomialFeatures\n",
        "from sklearn.linear_model import LogisticRegression\n",
        "from sklearn.metrics import accuracy_score, precision_score, recall_score, f1_score, roc_auc_score\n",
        "\n",
        "# Assuming you have X_train, X_test, y_train, y_test as your training and testing data\n",
        "\n",
        "degrees = [2, 3, 4]\n",
        "\n",
        "for degree in degrees:\n",
        "    # Polynomial transformation\n",
        "    poly = PolynomialFeatures(degree=degree)\n",
        "    X_train_poly = poly.fit_transform(X_train)\n",
        "    X_test_poly = poly.transform(X_test)\n",
        "\n",
        "    # Logistic Regression model\n",
        "    logreg = LogisticRegression()\n",
        "    logreg.fit(X_train_poly, y_train)\n",
        "\n",
        "    # Predictions for testing set\n",
        "    y_pred_test = logreg.predict(X_test_poly)\n",
        "    y_prob_test = logreg.predict_proba(X_test_poly)[:, 1]  # Probability of positive class\n",
        "\n",
        "    # Calculate metrics for testing set\n",
        "    accuracy = accuracy_score(y_test, y_pred_test)\n",
        "    precision = precision_score(y_test, y_pred_test)\n",
        "    recall = recall_score(y_test, y_pred_test)\n",
        "    f1 = f1_score(y_test, y_pred_test)\n",
        "    auroc = roc_auc_score(y_test, y_prob_test)\n",
        "\n",
        "    # Print results for each degree\n",
        "    print(f\"Degree {degree}:\")\n",
        "    print(\"Testing - Accuracy:\", accuracy)\n",
        "    print(\"Testing - Precision:\", precision)\n",
        "    print(\"Testing - Recall:\", recall)\n",
        "    print(\"Testing - F1 Score:\", f1)\n",
        "    print(\"Testing - AUROC:\", auroc)\n"
      ]
    },
    {
      "cell_type": "code",
      "execution_count": null,
      "id": "0c7745f2",
      "metadata": {
        "id": "0c7745f2"
      },
      "outputs": [],
      "source": []
    }
  ],
  "metadata": {
    "kernelspec": {
      "display_name": "Python 3 (ipykernel)",
      "language": "python",
      "name": "python3"
    },
    "language_info": {
      "codemirror_mode": {
        "name": "ipython",
        "version": 3
      },
      "file_extension": ".py",
      "mimetype": "text/x-python",
      "name": "python",
      "nbconvert_exporter": "python",
      "pygments_lexer": "ipython3",
      "version": "3.9.13"
    },
    "colab": {
      "provenance": [],
      "include_colab_link": true
    }
  },
  "nbformat": 4,
  "nbformat_minor": 5
}